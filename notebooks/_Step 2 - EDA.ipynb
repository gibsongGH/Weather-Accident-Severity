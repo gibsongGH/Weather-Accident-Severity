{
 "cells": [
  {
   "cell_type": "markdown",
   "metadata": {},
   "source": [
    "## Exploratory Data Analysis of US Accidents and Weather Dataset\n",
    "\n",
    "In this notebook I will explore basic trends, correlations, and curiosities in the data, prior to deeper statistical analysis."
   ]
  },
  {
   "cell_type": "code",
   "execution_count": 1,
   "metadata": {},
   "outputs": [],
   "source": [
    "import numpy as np\n",
    "import pandas as pd\n",
    "import datetime as dt\n",
    "import matplotlib.pyplot as plt"
   ]
  },
  {
   "cell_type": "code",
   "execution_count": null,
   "metadata": {},
   "outputs": [],
   "source": [
    "# Data originally sourced at https://osu.app.box.com/v/us-accidents-dec19, and initially wrangled through\n",
    "# https://github.com/gibsongGH/Weather-Accident-Severity/blob/master/notebooks/_Step1_Data_Wrangling.ipynb"
   ]
  },
  {
   "cell_type": "code",
   "execution_count": 2,
   "metadata": {},
   "outputs": [],
   "source": [
    "df = pd.read_csv('C:/data/Accidents.csv', parse_dates = ['Start_Time', 'End_Time'])  "
   ]
  },
  {
   "cell_type": "markdown",
   "metadata": {},
   "source": [
    "# Which days of the week have the most accidents?"
   ]
  },
  {
   "cell_type": "code",
   "execution_count": 5,
   "metadata": {},
   "outputs": [
    {
     "name": "stdout",
     "output_type": "stream",
     "text": [
      "         weekday\n",
      "weekday         \n",
      "Tue      497,951\n",
      "Wed      493,197\n",
      "Fri      491,159\n",
      "Thu      482,875\n",
      "Mon      464,057\n",
      "Sat      152,640\n",
      "Sun      135,525\n"
     ]
    },
    {
     "data": {
      "image/png": "[encoded data removed]",
      "text/plain": [
       "<Figure size 432x288 with 1 Axes>"
      ]
     },
     "metadata": {
      "needs_background": "light"
     },
     "output_type": "display_data"
    }
   ],
   "source": [
    "# Distribution of accidents Day of Week\n",
    "weekday_count = pd.DataFrame(df.groupby('weekday').weekday.count().sort_values(ascending = False))\n",
    "weekday_count.plot(kind='bar', legend=None, title = 'US Accidents 2016 thru 2019')\n",
    "plt.show\n",
    "weekday_count['weekday'] = weekday_count['weekday'].astype(int).apply(lambda x: \"{:,}\".format(x)) \n",
    "print(weekday_count)"
   ]
  },
  {
   "cell_type": "markdown",
   "metadata": {},
   "source": [
    "Fairly even distribution on the five weekdays, each near 500,000 accidents.  Surprising that Tuesday tops the list, with Monday the last weekday and 93% of Tuesday's high.  \n",
    "\n",
    "After a weekend rest and starting fresh on Mondays, are drivers less alert on Tuesdays with less sleep and more stress?"
   ]
  },
  {
   "cell_type": "markdown",
   "metadata": {},
   "source": [
    "# Which hours have the most accidents?"
   ]
  },
  {
   "cell_type": "code",
   "execution_count": 6,
   "metadata": {},
   "outputs": [
    {
     "name": "stdout",
     "output_type": "stream",
     "text": [
      "         hour\n",
      "hour         \n",
      "8     258,046\n",
      "7     246,886\n",
      "17    205,815\n",
      "16    195,894\n",
      "15    163,200\n",
      "9     161,829\n",
      "18    155,280\n",
      "6     151,439\n",
      "10    144,910\n",
      "11    142,976\n",
      "14    137,469\n",
      "13    129,532\n",
      "12    127,568\n",
      "19    107,010\n",
      "20     75,398\n",
      "5      74,593\n",
      "21     52,934\n",
      "4      47,969\n",
      "22     43,902\n",
      "23     24,200\n",
      "0      20,876\n",
      "2      16,943\n",
      "3      16,621\n",
      "1      16,114\n"
     ]
    },
    {
     "data": {
      "image/png": "[encoded data removed]",
      "text/plain": [
       "<Figure size 432x288 with 1 Axes>"
      ]
     },
     "metadata": {
      "needs_background": "light"
     },
     "output_type": "display_data"
    }
   ],
   "source": [
    "# Distribution of accidents by hour of day\n",
    "hour_count = pd.DataFrame(df.groupby('hour').hour.count().sort_values(ascending = False))\n",
    "hour_count.plot(kind='bar', legend=None, title = 'US Accidents 2016 thru 2019')\n",
    "plt.show\n",
    "hour_count['hour'] = hour_count['hour'].astype(int).apply(lambda x: \"{:,}\".format(x)) \n",
    "print(hour_count)"
   ]
  },
  {
   "cell_type": "markdown",
   "metadata": {},
   "source": [
    "As expected, commuting time ranks highest in accident volume, hours starting at 8AM & 7AM, followed by 5PM & 4PM."
   ]
  },
  {
   "cell_type": "markdown",
   "metadata": {},
   "source": [
    "# Which months stand out for accidents?  Summer travel?  Winter ice?"
   ]
  },
  {
   "cell_type": "code",
   "execution_count": 8,
   "metadata": {},
   "outputs": [
    {
     "data": {
      "text/plain": [
       "Start_Time\n",
       "2016-02       876\n",
       "2016-03     5,904\n",
       "2016-04    17,192\n",
       "2016-05    16,888\n",
       "2016-06    28,907\n",
       "2016-07    43,729\n",
       "2016-08    53,883\n",
       "2016-09    52,280\n",
       "2016-10    52,621\n",
       "2016-11    60,727\n",
       "2016-12    54,029\n",
       "2017-01    49,986\n",
       "2017-02    47,034\n",
       "2017-03    52,430\n",
       "2017-04    45,159\n",
       "2017-05    38,428\n",
       "2017-06    43,077\n",
       "2017-07    40,769\n",
       "2017-08    75,962\n",
       "2017-09    70,736\n",
       "2017-10    70,113\n",
       "2017-11    65,064\n",
       "2017-12    64,558\n",
       "2018-01    65,337\n",
       "2018-02    64,764\n",
       "2018-03    68,787\n",
       "2018-04    67,756\n",
       "2018-05    72,070\n",
       "2018-06    60,214\n",
       "2018-07    62,547\n",
       "2018-08    72,435\n",
       "2018-09    68,798\n",
       "2018-10    82,335\n",
       "2018-11    76,637\n",
       "2018-12    64,830\n",
       "2019-01    70,261\n",
       "2019-02    65,647\n",
       "2019-03    64,281\n",
       "2019-04    64,257\n",
       "2019-05    65,148\n",
       "2019-06    57,402\n",
       "2019-07    58,377\n",
       "2019-08    65,813\n",
       "2019-09    78,055\n",
       "2019-10    94,348\n",
       "2019-11    71,928\n",
       "2019-12    85,025\n",
       "Freq: M, Name: ID, dtype: object"
      ]
     },
     "execution_count": 8,
     "metadata": {},
     "output_type": "execute_result"
    }
   ],
   "source": [
    "# Accidents by month\n",
    "df.groupby(df.Start_Time.dt.to_period(\"M\")).ID.count().astype(int).apply(lambda x: \"{:,}\".format(x)) "
   ]
  },
  {
   "cell_type": "markdown",
   "metadata": {},
   "source": [
    "The data capture does not appear to be complete on a regular basis until month 7 in 2016\n",
    "\n",
    "Year over year volume comparisons will have to be from 2017 - 2019"
   ]
  },
  {
   "cell_type": "code",
   "execution_count": 3,
   "metadata": {},
   "outputs": [],
   "source": [
    "# add year column\n",
    "df['year'] = df['Start_Time'].dt.year"
   ]
  },
  {
   "cell_type": "code",
   "execution_count": 4,
   "metadata": {},
   "outputs": [],
   "source": [
    "# create 2017-2019 filter\n",
    "three = (df['year'] > 2016) & (df['year'] < 2020)"
   ]
  },
  {
   "cell_type": "code",
   "execution_count": 5,
   "metadata": {},
   "outputs": [],
   "source": [
    "# convert Month integer to sortable abbreviation\n",
    "df['Months'] = df['Start_Time'].dt.strftime('%b')"
   ]
  },
  {
   "cell_type": "code",
   "execution_count": 6,
   "metadata": {},
   "outputs": [],
   "source": [
    "# groupby Month\n",
    "# month_group = df.loc[three].groupby('Months')\n",
    "month_group = df.loc[three].groupby(['Month','Months'], sort = True)"
   ]
  },
  {
   "cell_type": "code",
   "execution_count": 66,
   "metadata": {},
   "outputs": [
    {
     "name": "stdout",
     "output_type": "stream",
     "text": [
      "Month  Months\n",
      "1      Jan       185,584\n",
      "2      Feb       177,445\n",
      "3      Mar       185,498\n",
      "4      Apr       177,172\n",
      "5      May       175,646\n",
      "6      Jun       160,693\n",
      "7      Jul       161,693\n",
      "8      Aug       214,210\n",
      "9      Sep       217,589\n",
      "10     Oct       246,796\n",
      "11     Nov       213,629\n",
      "12     Dec       214,413\n",
      "Name: ID, dtype: object\n"
     ]
    },
    {
     "data": {
      "image/png": "[encoded data removed]",
      "text/plain": [
       "<Figure size 432x288 with 1 Axes>"
      ]
     },
     "metadata": {
      "needs_background": "light"
     },
     "output_type": "display_data"
    }
   ],
   "source": [
    "# Do accidents increase in colder months due to weather, or summer months due to travel?\n",
    "month_count = month_group.ID.count()\n",
    "month_count.plot(kind='bar', legend=None, title = 'US Accidents 2017 thru 2019 across Months')\n",
    "plt.show\n",
    "print(month_count.astype(int).apply(lambda x: \"{:,}\".format(x)))"
   ]
  },
  {
   "cell_type": "markdown",
   "metadata": {},
   "source": [
    "Early to mid summer in the middle of the year have the lowest number of accidents.  Key factors may be warm and dry weather, longer periods of sunlight, lighter commuting volume, and no school activity.\n",
    "\n",
    "The last five months of the calendar year average 23% higher than the first five months.\n",
    "\n",
    "October stands out as the highest month for accidents.  October is 11% of total yearly accidents, as well as a 15% increase over surrounding months.  Contributing factors may be adjusting to the darker commute hours, Columbus Day weekend travel, and pedestrian accidents during Halloween."
   ]
  },
  {
   "cell_type": "markdown",
   "metadata": {},
   "source": [
    "# Are accidents increasing over time?"
   ]
  },
  {
   "cell_type": "code",
   "execution_count": 9,
   "metadata": {},
   "outputs": [],
   "source": [
    "# create filter to limit months to July and later to include 2016 in yearly comparisons\n",
    "july = (df['Month'] > 6) & (df['year'] < 2020)"
   ]
  },
  {
   "cell_type": "code",
   "execution_count": 10,
   "metadata": {},
   "outputs": [],
   "source": [
    "# groupby year\n",
    "year_group = df.loc[july].groupby(['year'])"
   ]
  },
  {
   "cell_type": "code",
   "execution_count": 13,
   "metadata": {},
   "outputs": [
    {
     "name": "stdout",
     "output_type": "stream",
     "text": [
      "year\n",
      "2016    317,269\n",
      "2017    387,202\n",
      "2018    427,582\n",
      "2019    453,546\n",
      "Name: ID, dtype: object\n"
     ]
    },
    {
     "data": {
      "image/png": "[encoded data removed]",
      "text/plain": [
       "<Figure size 432x288 with 1 Axes>"
      ]
     },
     "metadata": {
      "needs_background": "light"
     },
     "output_type": "display_data"
    }
   ],
   "source": [
    "# Are accidents trending in this dataset?\n",
    "year_count = year_group.ID.count()\n",
    "year_count.plot(kind='bar', legend=None, title = 'US Accidents 2016 thru 2019 (July-Dec)')\n",
    "plt.show\n",
    "print(year_count.astype(int).apply(lambda x: \"{:,}\".format(x)))"
   ]
  },
  {
   "cell_type": "markdown",
   "metadata": {},
   "source": [
    "A visible upward trend in yearly accident counts.  This dataset only partially collected the first half of 2016, all years are comparing the second half.  One theory is the increase in distracted driving due to smartphone use."
   ]
  },
  {
   "cell_type": "markdown",
   "metadata": {},
   "source": [
    "# Do correlations exist between weather and accident severity?"
   ]
  },
  {
   "cell_type": "code",
   "execution_count": 15,
   "metadata": {},
   "outputs": [
    {
     "name": "stdout",
     "output_type": "stream",
     "text": [
      "     Weather_Condition  Precipitation(in)\n",
      "602              Clear           0.135625\n",
      "603              Clear           0.131250\n",
      "604              Clear           0.126875\n",
      "605              Clear           0.122500\n",
      "607              Clear           0.113750\n",
      "608              Clear           0.109375\n",
      "609              Clear           0.105000\n",
      "1977             Clear           0.650000\n",
      "1978             Clear           0.640000\n",
      "1988             Clear           0.490000\n"
     ]
    }
   ],
   "source": [
    "# It can rain during good weather indicator\n",
    "subset = (df['Weather_Condition'].isin(['Fair', 'Clear'])) & (df['Precipitation(in)']>0.1) \n",
    "WCFair = df[['Weather_Condition', 'Precipitation(in)']][subset]\n",
    "print(WCFair.head(10))"
   ]
  },
  {
   "cell_type": "code",
   "execution_count": 4,
   "metadata": {},
   "outputs": [
    {
     "data": {
      "text/plain": [
       "0.030282695053906208"
      ]
     },
     "execution_count": 4,
     "metadata": {},
     "output_type": "execute_result"
    }
   ],
   "source": [
    "# Does Duration of the accident correlate to the Severity column?  No\n",
    "df['Duration(m)'].corr(df['Severity'])"
   ]
  },
  {
   "cell_type": "code",
   "execution_count": 3,
   "metadata": {},
   "outputs": [
    {
     "data": {
      "text/plain": [
       "0.18229177761804244"
      ]
     },
     "execution_count": 3,
     "metadata": {},
     "output_type": "execute_result"
    }
   ],
   "source": [
    "# Does Distance of the traffic correlate to the Severity column?  A small correlation\n",
    "df['Distance(mi)'].corr(df['Severity'])"
   ]
  },
  {
   "cell_type": "code",
   "execution_count": 17,
   "metadata": {},
   "outputs": [
    {
     "data": {
      "text/html": [
       "<div>\n",
       "<style scoped>\n",
       "    .dataframe tbody tr th:only-of-type {\n",
       "        vertical-align: middle;\n",
       "    }\n",
       "\n",
       "    .dataframe tbody tr th {\n",
       "        vertical-align: top;\n",
       "    }\n",
       "\n",
       "    .dataframe thead th {\n",
       "        text-align: right;\n",
       "    }\n",
       "</style>\n",
       "<table border=\"1\" class=\"dataframe\">\n",
       "  <thead>\n",
       "    <tr style=\"text-align: right;\">\n",
       "      <th></th>\n",
       "      <th>Severity</th>\n",
       "      <th>Duration(m)</th>\n",
       "      <th>Distance(mi)</th>\n",
       "      <th>Temperature(F)</th>\n",
       "      <th>Wind_Chill(F)</th>\n",
       "      <th>Humidity(%)</th>\n",
       "      <th>Pressure(in)</th>\n",
       "      <th>Visibility(mi)</th>\n",
       "      <th>Wind_Speed(mph)</th>\n",
       "      <th>Precipitation(in)</th>\n",
       "    </tr>\n",
       "  </thead>\n",
       "  <tbody>\n",
       "    <tr>\n",
       "      <th>Severity</th>\n",
       "      <td>1.000000</td>\n",
       "      <td>0.030283</td>\n",
       "      <td>0.182292</td>\n",
       "      <td>-0.023773</td>\n",
       "      <td>-0.025837</td>\n",
       "      <td>0.022769</td>\n",
       "      <td>0.036195</td>\n",
       "      <td>-0.013427</td>\n",
       "      <td>0.026456</td>\n",
       "      <td>0.026630</td>\n",
       "    </tr>\n",
       "    <tr>\n",
       "      <th>Duration(m)</th>\n",
       "      <td>0.030283</td>\n",
       "      <td>1.000000</td>\n",
       "      <td>0.260236</td>\n",
       "      <td>0.004249</td>\n",
       "      <td>-0.016546</td>\n",
       "      <td>-0.028624</td>\n",
       "      <td>0.018104</td>\n",
       "      <td>0.015584</td>\n",
       "      <td>0.037582</td>\n",
       "      <td>0.030766</td>\n",
       "    </tr>\n",
       "    <tr>\n",
       "      <th>Distance(mi)</th>\n",
       "      <td>0.182292</td>\n",
       "      <td>0.260236</td>\n",
       "      <td>1.000000</td>\n",
       "      <td>-0.053828</td>\n",
       "      <td>-0.051282</td>\n",
       "      <td>0.018782</td>\n",
       "      <td>0.006876</td>\n",
       "      <td>-0.011319</td>\n",
       "      <td>0.029723</td>\n",
       "      <td>0.022079</td>\n",
       "    </tr>\n",
       "    <tr>\n",
       "      <th>Temperature(F)</th>\n",
       "      <td>-0.023773</td>\n",
       "      <td>0.004249</td>\n",
       "      <td>-0.053828</td>\n",
       "      <td>1.000000</td>\n",
       "      <td>0.833849</td>\n",
       "      <td>-0.326159</td>\n",
       "      <td>-0.207036</td>\n",
       "      <td>0.212008</td>\n",
       "      <td>0.004091</td>\n",
       "      <td>0.057375</td>\n",
       "    </tr>\n",
       "    <tr>\n",
       "      <th>Wind_Chill(F)</th>\n",
       "      <td>-0.025837</td>\n",
       "      <td>-0.016546</td>\n",
       "      <td>-0.051282</td>\n",
       "      <td>0.833849</td>\n",
       "      <td>1.000000</td>\n",
       "      <td>-0.139447</td>\n",
       "      <td>-0.272570</td>\n",
       "      <td>0.154579</td>\n",
       "      <td>-0.110910</td>\n",
       "      <td>0.039259</td>\n",
       "    </tr>\n",
       "    <tr>\n",
       "      <th>Humidity(%)</th>\n",
       "      <td>0.022769</td>\n",
       "      <td>-0.028624</td>\n",
       "      <td>0.018782</td>\n",
       "      <td>-0.326159</td>\n",
       "      <td>-0.139447</td>\n",
       "      <td>1.000000</td>\n",
       "      <td>0.033721</td>\n",
       "      <td>-0.411083</td>\n",
       "      <td>-0.156193</td>\n",
       "      <td>0.105023</td>\n",
       "    </tr>\n",
       "    <tr>\n",
       "      <th>Pressure(in)</th>\n",
       "      <td>0.036195</td>\n",
       "      <td>0.018104</td>\n",
       "      <td>0.006876</td>\n",
       "      <td>-0.207036</td>\n",
       "      <td>-0.272570</td>\n",
       "      <td>0.033721</td>\n",
       "      <td>1.000000</td>\n",
       "      <td>0.036326</td>\n",
       "      <td>-0.010029</td>\n",
       "      <td>0.055780</td>\n",
       "    </tr>\n",
       "    <tr>\n",
       "      <th>Visibility(mi)</th>\n",
       "      <td>-0.013427</td>\n",
       "      <td>0.015584</td>\n",
       "      <td>-0.011319</td>\n",
       "      <td>0.212008</td>\n",
       "      <td>0.154579</td>\n",
       "      <td>-0.411083</td>\n",
       "      <td>0.036326</td>\n",
       "      <td>1.000000</td>\n",
       "      <td>0.028438</td>\n",
       "      <td>-0.124066</td>\n",
       "    </tr>\n",
       "    <tr>\n",
       "      <th>Wind_Speed(mph)</th>\n",
       "      <td>0.026456</td>\n",
       "      <td>0.037582</td>\n",
       "      <td>0.029723</td>\n",
       "      <td>0.004091</td>\n",
       "      <td>-0.110910</td>\n",
       "      <td>-0.156193</td>\n",
       "      <td>-0.010029</td>\n",
       "      <td>0.028438</td>\n",
       "      <td>1.000000</td>\n",
       "      <td>0.035012</td>\n",
       "    </tr>\n",
       "    <tr>\n",
       "      <th>Precipitation(in)</th>\n",
       "      <td>0.026630</td>\n",
       "      <td>0.030766</td>\n",
       "      <td>0.022079</td>\n",
       "      <td>0.057375</td>\n",
       "      <td>0.039259</td>\n",
       "      <td>0.105023</td>\n",
       "      <td>0.055780</td>\n",
       "      <td>-0.124066</td>\n",
       "      <td>0.035012</td>\n",
       "      <td>1.000000</td>\n",
       "    </tr>\n",
       "  </tbody>\n",
       "</table>\n",
       "</div>"
      ],
      "text/plain": [
       "                   Severity  Duration(m)  Distance(mi)  Temperature(F)  \\\n",
       "Severity           1.000000     0.030283      0.182292       -0.023773   \n",
       "Duration(m)        0.030283     1.000000      0.260236        0.004249   \n",
       "Distance(mi)       0.182292     0.260236      1.000000       -0.053828   \n",
       "Temperature(F)    -0.023773     0.004249     -0.053828        1.000000   \n",
       "Wind_Chill(F)     -0.025837    -0.016546     -0.051282        0.833849   \n",
       "Humidity(%)        0.022769    -0.028624      0.018782       -0.326159   \n",
       "Pressure(in)       0.036195     0.018104      0.006876       -0.207036   \n",
       "Visibility(mi)    -0.013427     0.015584     -0.011319        0.212008   \n",
       "Wind_Speed(mph)    0.026456     0.037582      0.029723        0.004091   \n",
       "Precipitation(in)  0.026630     0.030766      0.022079        0.057375   \n",
       "\n",
       "                   Wind_Chill(F)  Humidity(%)  Pressure(in)  Visibility(mi)  \\\n",
       "Severity               -0.025837     0.022769      0.036195       -0.013427   \n",
       "Duration(m)            -0.016546    -0.028624      0.018104        0.015584   \n",
       "Distance(mi)           -0.051282     0.018782      0.006876       -0.011319   \n",
       "Temperature(F)          0.833849    -0.326159     -0.207036        0.212008   \n",
       "Wind_Chill(F)           1.000000    -0.139447     -0.272570        0.154579   \n",
       "Humidity(%)            -0.139447     1.000000      0.033721       -0.411083   \n",
       "Pressure(in)           -0.272570     0.033721      1.000000        0.036326   \n",
       "Visibility(mi)          0.154579    -0.411083      0.036326        1.000000   \n",
       "Wind_Speed(mph)        -0.110910    -0.156193     -0.010029        0.028438   \n",
       "Precipitation(in)       0.039259     0.105023      0.055780       -0.124066   \n",
       "\n",
       "                   Wind_Speed(mph)  Precipitation(in)  \n",
       "Severity                  0.026456           0.026630  \n",
       "Duration(m)               0.037582           0.030766  \n",
       "Distance(mi)              0.029723           0.022079  \n",
       "Temperature(F)            0.004091           0.057375  \n",
       "Wind_Chill(F)            -0.110910           0.039259  \n",
       "Humidity(%)              -0.156193           0.105023  \n",
       "Pressure(in)             -0.010029           0.055780  \n",
       "Visibility(mi)            0.028438          -0.124066  \n",
       "Wind_Speed(mph)           1.000000           0.035012  \n",
       "Precipitation(in)         0.035012           1.000000  "
      ]
     },
     "execution_count": 17,
     "metadata": {},
     "output_type": "execute_result"
    }
   ],
   "source": [
    "# Correlation of remaining figures\n",
    "cols = ['Severity', 'Duration(m)', 'Distance(mi)', 'Temperature(F)', 'Wind_Chill(F)', 'Humidity(%)', 'Pressure(in)', 'Visibility(mi)', 'Wind_Speed(mph)', 'Precipitation(in)']\n",
    "df[cols].corr()"
   ]
  },
  {
   "cell_type": "markdown",
   "metadata": {},
   "source": [
    "There is only one observed strong correlation between Temperature and Wind Chill.  \n",
    "\n",
    "A moderate, negative correlation between Visibility and Humidity, as increased humidity can create foggy driving condititions.  Interestingly, Temperature and Humidity are also negatively correlated.  According to online sources, as air temperature increases, air can hold more water vapor, and its relative humidity decreases.\n",
    "\n",
    "Duration and Distance of traffic have a low correlation together of 0.26.  Surprisingly, Temperature alone, which could indicate freezing conditions, does not correlate to Duration or Distance of traffic accidents.  There are no weather metrics with clear correlation to accident severity, duration, or distance."
   ]
  },
  {
   "cell_type": "code",
   "execution_count": 18,
   "metadata": {},
   "outputs": [],
   "source": [
    "# output correlation\n",
    "weather_corr = df[cols].corr()\n",
    "weather_corr.to_csv(\"C:\\data\\weather_corr.csv\")"
   ]
  }
 ],
 "metadata": {
  "kernelspec": {
   "display_name": "Python 3",
   "language": "python",
   "name": "python3"
  },
  "language_info": {
   "codemirror_mode": {
    "name": "ipython",
    "version": 3
   },
   "file_extension": ".py",
   "mimetype": "text/x-python",
   "name": "python",
   "nbconvert_exporter": "python",
   "pygments_lexer": "ipython3",
   "version": "3.7.6"
  }
 },
 "nbformat": 4,
 "nbformat_minor": 4
}
