{
 "cells": [
  {
   "cell_type": "markdown",
   "metadata": {},
   "source": [
    "## Logistic Regression to Predict High or Low Traffic Accident Severity"
   ]
  },
  {
   "cell_type": "code",
   "execution_count": 1,
   "metadata": {},
   "outputs": [],
   "source": [
    "from sklearn.linear_model import LogisticRegression\n",
    "from sklearn.tree import DecisionTreeClassifier\n",
    "from sklearn.model_selection import train_test_split, cross_val_score, GridSearchCV, RandomizedSearchCV, KFold\n",
    "from sklearn.metrics import confusion_matrix, classification_report, roc_curve, roc_auc_score, accuracy_score\n",
    "from sklearn.preprocessing import StandardScaler\n",
    "from sklearn.pipeline import Pipeline\n",
    "import pandas as pd\n",
    "import numpy as np\n",
    "import matplotlib.pyplot as plt\n"
   ]
  },
  {
   "cell_type": "code",
   "execution_count": 2,
   "metadata": {},
   "outputs": [],
   "source": [
    "data = pd.read_csv('C:/data/Accidents.csv')"
   ]
  },
  {
   "cell_type": "markdown",
   "metadata": {},
   "source": [
    "## Feature Engineering and Subsetting"
   ]
  },
  {
   "cell_type": "code",
   "execution_count": 3,
   "metadata": {},
   "outputs": [],
   "source": [
    "# Reduce traffic Severity from four categories down to two for Logistic Regression\n",
    "data['Severity01'] = data['Severity'].apply(lambda x: 1 if x >= 3 else 0)\n",
    "data['SeverityLoHi'] = data['Severity'].apply(lambda x: \"High\" if x >= 3 else \"Low\")"
   ]
  },
  {
   "cell_type": "code",
   "execution_count": 4,
   "metadata": {},
   "outputs": [],
   "source": [
    "# These features with a high percentage of single values made binary\n",
    "data['DistanceZero'] = data['Distance(mi)'].apply(lambda x: 1 if x == 0 else 0)\n",
    "data['PrecipitationZero'] = data['Precipitation(in)'].apply(lambda x: 1 if x == 0 else 0)\n",
    "data['VisibilityTen'] = data['Visibility(mi)'].apply(lambda x: 1 if x == 10 else 0)"
   ]
  },
  {
   "cell_type": "code",
   "execution_count": 5,
   "metadata": {},
   "outputs": [],
   "source": [
    "# Convert Civil Twilight from Day Night to 0 1\n",
    "data['DayNight01'] = data['Civil_Twilight'].apply(lambda x: 1 if x == 'Night' else 0)"
   ]
  },
  {
   "cell_type": "code",
   "execution_count": 6,
   "metadata": {},
   "outputs": [],
   "source": [
    "subset = data.drop(['Weather_Timestamp', 'Weather_Condition', 'ID', 'Source', 'Severity', 'SeverityLoHi', 'Start_Time', 'End_Time', 'Start_Lat', 'Start_Lng', 'Description', 'Wind_Direction', 'Street', 'Side', 'City', 'County', 'State', 'Zipcode', 'Zip2', 'Country', 'Timezone', 'Airport_Code', 'Duration', 'Month', 'Sunrise_Sunset', 'Civil_Twilight', 'Nautical_Twilight', 'Astronomical_Twilight'], axis = 1)"
   ]
  },
  {
   "cell_type": "code",
   "execution_count": 7,
   "metadata": {},
   "outputs": [],
   "source": [
    "subset = pd.get_dummies(data = subset, columns = ['Weather_Group', 'weekday', 'hour'] )"
   ]
  },
  {
   "cell_type": "code",
   "execution_count": 21,
   "metadata": {},
   "outputs": [
    {
     "data": {
      "text/plain": [
       "Index(['Distance(mi)', 'Temperature(F)', 'Wind_Chill(F)', 'Humidity(%)',\n",
       "       'Pressure(in)', 'Visibility(mi)', 'Wind_Speed(mph)',\n",
       "       'Precipitation(in)', 'Amenity', 'Bump', 'Crossing', 'Give_Way',\n",
       "       'Junction', 'No_Exit', 'Railway', 'Roundabout', 'Station', 'Stop',\n",
       "       'Traffic_Calming', 'Traffic_Signal', 'Turning_Loop', 'Duration(m)',\n",
       "       'Severity01', 'DistanceZero', 'PrecipitationZero', 'VisibilityTen',\n",
       "       'DayNight01', 'Weather_Group_Clear', 'Weather_Group_Cloudy',\n",
       "       'Weather_Group_Heavy Precip', 'Weather_Group_Light Precip',\n",
       "       'Weather_Group_Obscured', 'Weather_Group_Windy', 'weekday_Fri',\n",
       "       'weekday_Mon', 'weekday_Sat', 'weekday_Sun', 'weekday_Thu',\n",
       "       'weekday_Tue', 'weekday_Wed', 'hour_0', 'hour_1', 'hour_2', 'hour_3',\n",
       "       'hour_4', 'hour_5', 'hour_6', 'hour_7', 'hour_8', 'hour_9', 'hour_10',\n",
       "       'hour_11', 'hour_12', 'hour_13', 'hour_14', 'hour_15', 'hour_16',\n",
       "       'hour_17', 'hour_18', 'hour_19', 'hour_20', 'hour_21', 'hour_22',\n",
       "       'hour_23'],\n",
       "      dtype='object')"
      ]
     },
     "execution_count": 21,
     "metadata": {},
     "output_type": "execute_result"
    }
   ],
   "source": [
    "subset.columns"
   ]
  },
  {
   "cell_type": "code",
   "execution_count": 22,
   "metadata": {},
   "outputs": [
    {
     "data": {
      "text/plain": [
       "(2717404, 64)"
      ]
     },
     "execution_count": 22,
     "metadata": {},
     "output_type": "execute_result"
    }
   ],
   "source": [
    "subset.shape"
   ]
  },
  {
   "cell_type": "code",
   "execution_count": 25,
   "metadata": {},
   "outputs": [
    {
     "name": "stdout",
     "output_type": "stream",
     "text": [
      "                Temperature(F)  Wind_Chill(F)\n",
      "Temperature(F)        1.000000       0.833849\n",
      "Wind_Chill(F)         0.833849       1.000000\n"
     ]
    }
   ],
   "source": [
    "# In EDA, only correlation over 50% was between Temperature and Wind Chill.  Remove Wind Chill.\n",
    "old_corr = subset[['Temperature(F)', 'Wind_Chill(F)']]\n",
    "corr = old_corr.corr(method = 'pearson')\n",
    "print(corr)"
   ]
  },
  {
   "cell_type": "code",
   "execution_count": 9,
   "metadata": {},
   "outputs": [],
   "source": [
    "subset = subset.drop(['Wind_Chill(F)'], axis = 1)"
   ]
  },
  {
   "cell_type": "code",
   "execution_count": 10,
   "metadata": {},
   "outputs": [],
   "source": [
    "# Separate X, y\n",
    "y = subset.Severity01\n",
    "X = subset.drop(['Severity01'], axis=1)"
   ]
  },
  {
   "cell_type": "code",
   "execution_count": 30,
   "metadata": {},
   "outputs": [
    {
     "data": {
      "text/plain": [
       "(2717404, 62)"
      ]
     },
     "execution_count": 30,
     "metadata": {},
     "output_type": "execute_result"
    }
   ],
   "source": [
    "X.shape"
   ]
  },
  {
   "cell_type": "code",
   "execution_count": 36,
   "metadata": {},
   "outputs": [],
   "source": [
    "features = ['Distance(mi)', 'Temperature(F)', 'Humidity(%)',\n",
    "       'Pressure(in)', 'Visibility(mi)', 'Wind_Speed(mph)',\n",
    "       'Precipitation(in)', 'Amenity', 'Bump', 'Crossing', 'Give_Way',\n",
    "       'Junction', 'No_Exit', 'Railway', 'Roundabout', 'Station', 'Stop',\n",
    "       'Traffic_Calming', 'Traffic_Signal', 'Turning_Loop', 'Duration(m)',\n",
    "       'DistanceZero', 'PrecipitationZero', 'VisibilityTen',\n",
    "       'DayNight01', 'Weather_Group_Clear', 'Weather_Group_Cloudy',\n",
    "       'Weather_Group_Heavy Precip', 'Weather_Group_Light Precip',\n",
    "       'Weather_Group_Obscured', 'Weather_Group_Windy', 'weekday_Fri',\n",
    "       'weekday_Mon', 'weekday_Sat', 'weekday_Sun', 'weekday_Thu',\n",
    "       'weekday_Tue', 'weekday_Wed', 'hour_0', 'hour_1', 'hour_2', 'hour_3',\n",
    "       'hour_4', 'hour_5', 'hour_6', 'hour_7', 'hour_8', 'hour_9', 'hour_10',\n",
    "       'hour_11', 'hour_12', 'hour_13', 'hour_14', 'hour_15', 'hour_16',\n",
    "       'hour_17', 'hour_18', 'hour_19', 'hour_20', 'hour_21', 'hour_22',\n",
    "       'hour_23']"
   ]
  },
  {
   "cell_type": "markdown",
   "metadata": {},
   "source": [
    "## First Logistic Regression"
   ]
  },
  {
   "cell_type": "code",
   "execution_count": 11,
   "metadata": {},
   "outputs": [
    {
     "name": "stdout",
     "output_type": "stream",
     "text": [
      "(1956530, 62)\n",
      "(543481, 62)\n",
      "(217393, 62)\n",
      "(1956530,)\n",
      "(543481,)\n",
      "(217393,)\n"
     ]
    }
   ],
   "source": [
    "# Create training, test, validate sets\n",
    "X_train, X_test, y_train, y_test = train_test_split(X, y, test_size = 0.2, random_state=7)\n",
    "X_train, X_valid, y_train, y_valid = train_test_split(X_train, y_train, test_size = 0.1, random_state=7)\n",
    "print(X_train.shape)\n",
    "print(X_test.shape)\n",
    "print(X_valid.shape)\n",
    "print(y_train.shape)\n",
    "print(y_test.shape)\n",
    "print(y_valid.shape)"
   ]
  },
  {
   "cell_type": "code",
   "execution_count": 29,
   "metadata": {},
   "outputs": [],
   "source": [
    "steps = [('scaler', StandardScaler()), ('logreg', LogisticRegression(random_state = 7, solver = 'saga'))]"
   ]
  },
  {
   "cell_type": "code",
   "execution_count": 30,
   "metadata": {},
   "outputs": [],
   "source": [
    "pipeline = Pipeline(steps)"
   ]
  },
  {
   "cell_type": "code",
   "execution_count": 31,
   "metadata": {},
   "outputs": [],
   "source": [
    "logreg_scaled = pipeline.fit(X_train, y_train)"
   ]
  },
  {
   "cell_type": "code",
   "execution_count": 32,
   "metadata": {},
   "outputs": [
    {
     "name": "stdout",
     "output_type": "stream",
     "text": [
      "The testing accuracy is  0.6938973027575941\n"
     ]
    }
   ],
   "source": [
    "# Accuracy on testing\n",
    "print(\"The testing accuracy is \", logreg_scaled.score(X_test, y_test))"
   ]
  },
  {
   "cell_type": "markdown",
   "metadata": {},
   "source": [
    "## Feature Ranking"
   ]
  },
  {
   "cell_type": "code",
   "execution_count": 49,
   "metadata": {},
   "outputs": [
    {
     "name": "stdout",
     "output_type": "stream",
     "text": [
      "                                coef\n",
      "Traffic_Signal             -0.135802\n",
      "Distance(Mi)                0.100135\n",
      "Distancezero               -0.073732\n",
      "Crossing                   -0.061685\n",
      "Daynight01                  0.041559\n",
      "Weekday_Sat                 0.036909\n",
      "Weekday_Sun                 0.032850\n",
      "Junction                    0.032669\n",
      "Precipitationzero          -0.026913\n",
      "Hour_8                     -0.021010\n",
      "Pressure(In)               -0.020345\n",
      "Weather_Group_Clear        -0.017879\n",
      "Hour_7                     -0.017450\n",
      "Weekday_Tue                -0.017421\n",
      "Weekday_Wed                -0.017111\n",
      "Weekday_Mon                -0.015440\n",
      "Wind_Speed(Mph)             0.014852\n",
      "Station                    -0.013350\n",
      "Stop                       -0.013228\n",
      "Weekday_Thu                -0.012335\n",
      "Amenity                    -0.010529\n",
      "Weather_Group_Cloudy        0.009092\n",
      "Weekday_Fri                -0.009011\n",
      "Visibility(Mi)             -0.008965\n",
      "Hour_10                    -0.007500\n",
      "Hour_11                    -0.007413\n",
      "Hour_9                     -0.007056\n",
      "Weather_Group_Light Precip  0.006765\n",
      "Hour_22                     0.005921\n",
      "Hour_21                     0.005905\n",
      "Hour_20                     0.004834\n",
      "Hour_0                      0.004789\n",
      "Hour_18                     0.004483\n",
      "Hour_3                      0.004442\n",
      "Hour_23                     0.004438\n",
      "Hour_2                      0.004151\n",
      "Railway                    -0.004090\n",
      "Hour_1                      0.003642\n",
      "Hour_4                      0.003337\n",
      "Hour_5                      0.003256\n",
      "Hour_19                     0.003120\n",
      "Hour_15                     0.002766\n",
      "Hour_17                     0.002699\n",
      "Precipitation(In)           0.002569\n",
      "Hour_16                     0.001925\n",
      "Hour_14                     0.001820\n",
      "Weather_Group_Heavy Precip  0.001785\n",
      "Hour_12                    -0.001575\n",
      "Hour_6                     -0.001454\n",
      "Give_Way                   -0.001068\n",
      "Duration(M)                -0.001041\n",
      "Humidity(%)                 0.000937\n",
      "Weather_Group_Obscured     -0.000859\n",
      "Temperature(F)             -0.000749\n",
      "Weather_Group_Windy        -0.000467\n",
      "No_Exit                    -0.000458\n",
      "Hour_13                     0.000347\n",
      "Traffic_Calming            -0.000288\n",
      "Bump                       -0.000143\n",
      "Visibilityten              -0.000077\n",
      "Roundabout                 -0.000061\n",
      "Turning_Loop                0.000000\n"
     ]
    },
    {
     "name": "stderr",
     "output_type": "stream",
     "text": [
      "C:\\Users\\ggibs\\Anaconda3\\lib\\site-packages\\sklearn\\linear_model\\_sag.py:330: ConvergenceWarning: The max_iter was reached which means the coef_ did not converge\n",
      "  \"the coef_ did not converge\", ConvergenceWarning)\n"
     ]
    }
   ],
   "source": [
    "# Plot the Beta values of a Logistic Regression based on the Features provided\n",
    "logreg = LogisticRegression(random_state = 7, solver = 'saga', penalty='l1')\n",
    "scaler = StandardScaler()\n",
    "X_train_scaled = scaler.fit_transform(X_train)\n",
    "logreg.fit(X_train,y_train)\n",
    "std_coef = logreg.coef_.reshape(-1,1).tolist()\n",
    "feature_names = [feature.title() for feature in features]\n",
    "coef_df = pd.DataFrame(std_coef,index=feature_names,columns=['coef'])\n",
    "coef_df['abs'] = coef_df['coef'].abs()\n",
    "coef_df = coef_df.sort_values(by='abs',ascending=False).drop('abs',axis=1)\n",
    "pd.set_option('display.max_rows', None)\n",
    "print(coef_df)"
   ]
  },
  {
   "cell_type": "markdown",
   "metadata": {},
   "source": [
    "An interesting ranking.  Weather is not well represented at the top.  Traffic signals, intersections and crosswalks are far more indicative of traffic severity than weather.  One of the created binary fields, Precipitation01, made the top ten.  Binary Distance is redundant as Distance(mi) is ranked second.  The weekend ranked well, identified as much less frequent accident days during the EDA, as well as the importance of commute times beginning at 7-8 am.  Pressure can indicate good weather when it increases and storms when it falls.  I am surprised to see Heavy Precipitation ranking so low, maybe due to causing slower travel speeds.  \n",
    "\n",
    "The line will be drawn at coefficients of at least +/- 0.01 away from zero."
   ]
  },
  {
   "cell_type": "code",
   "execution_count": 87,
   "metadata": {},
   "outputs": [],
   "source": [
    "columns_to_keep = ['Traffic_Signal', 'Distance(mi)', 'Crossing', 'DayNight01', 'weekday_Sat', 'weekday_Sun', 'Junction', 'PrecipitationZero', 'hour_8', 'hour_7', 'Pressure(in)', 'Weather_Group_Clear', 'weekday_Mon', 'weekday_Tue', 'weekday_Wed', 'weekday_Thu', 'Wind_Speed(mph)', 'Station', 'Stop', 'Amenity']"
   ]
  },
  {
   "cell_type": "markdown",
   "metadata": {},
   "source": [
    "## Second Logistic Regression"
   ]
  },
  {
   "cell_type": "code",
   "execution_count": 88,
   "metadata": {},
   "outputs": [],
   "source": [
    "# Split X, y kept columns\n",
    "X2 = subset[columns_to_keep]"
   ]
  },
  {
   "cell_type": "code",
   "execution_count": 91,
   "metadata": {},
   "outputs": [
    {
     "name": "stdout",
     "output_type": "stream",
     "text": [
      "(1956530, 20)\n",
      "(543481, 20)\n",
      "(217393, 20)\n",
      "(1956530,)\n",
      "(543481,)\n",
      "(217393,)\n"
     ]
    }
   ],
   "source": [
    "# Create training, test, validate sets\n",
    "X2_train, X2_test, y2_train, y2_test = train_test_split(X2, y, test_size = 0.2, random_state=7)\n",
    "X2_train, X2_valid, y2_train, y2_valid = train_test_split(X2_train, y2_train, test_size = 0.1, random_state=7)\n",
    "print(X2_train.shape)\n",
    "print(X2_test.shape)\n",
    "print(X2_valid.shape)\n",
    "print(y2_train.shape)\n",
    "print(y2_test.shape)\n",
    "print(y2_valid.shape)"
   ]
  },
  {
   "cell_type": "code",
   "execution_count": 93,
   "metadata": {},
   "outputs": [],
   "source": [
    "steps2 = [('scaler2', StandardScaler()), ('logreg2', LogisticRegression(random_state = 7, solver='saga'))]"
   ]
  },
  {
   "cell_type": "code",
   "execution_count": 94,
   "metadata": {},
   "outputs": [],
   "source": [
    "pipeline2 = Pipeline(steps2)"
   ]
  },
  {
   "cell_type": "code",
   "execution_count": 95,
   "metadata": {},
   "outputs": [],
   "source": [
    "logreg2_scaled = pipeline2.fit(X2_train, y2_train)"
   ]
  },
  {
   "cell_type": "code",
   "execution_count": 96,
   "metadata": {},
   "outputs": [
    {
     "name": "stdout",
     "output_type": "stream",
     "text": [
      "The testing2 accuracy is  0.690029642250603\n"
     ]
    }
   ],
   "source": [
    "# Accuracy on testing2\n",
    "print(\"The testing2 accuracy is \", logreg2_scaled.score(X2_test, y2_test))"
   ]
  },
  {
   "cell_type": "markdown",
   "metadata": {},
   "source": [
    "While retaining only 1/3rd of the features, we only lost 1/3rd of a percent off our accuracy."
   ]
  },
  {
   "cell_type": "markdown",
   "metadata": {},
   "source": [
    "# Evaluate the Linear Regression Model"
   ]
  },
  {
   "cell_type": "code",
   "execution_count": 97,
   "metadata": {},
   "outputs": [],
   "source": [
    "# 5-fold cross-validation scores\n",
    "cv_scores = cross_val_score(pipeline2, X2, y, cv=5)"
   ]
  },
  {
   "cell_type": "code",
   "execution_count": 98,
   "metadata": {},
   "outputs": [
    {
     "name": "stdout",
     "output_type": "stream",
     "text": [
      "[0.68920533 0.69257435 0.68865333 0.68504879 0.68500221]\n",
      "Average 5-Fold CV Score: 0.6880968000729402\n"
     ]
    }
   ],
   "source": [
    "# CV Scores\n",
    "print(cv_scores)\n",
    "print(\"Average 5-Fold CV Score: {}\".format(np.mean(cv_scores)))"
   ]
  },
  {
   "cell_type": "markdown",
   "metadata": {},
   "source": [
    "I don't believe there is overfitting due to the low variation in cross-validation."
   ]
  },
  {
   "cell_type": "code",
   "execution_count": 99,
   "metadata": {},
   "outputs": [],
   "source": [
    "# Predict class labels for samples in X\n",
    "y2_pred = logreg2_scaled.predict(X2_test)"
   ]
  },
  {
   "cell_type": "code",
   "execution_count": 100,
   "metadata": {},
   "outputs": [],
   "source": [
    "# Probability estimates\n",
    "pred_proba = logreg2_scaled.predict_proba(X2_test)"
   ]
  },
  {
   "cell_type": "code",
   "execution_count": 101,
   "metadata": {},
   "outputs": [
    {
     "name": "stdout",
     "output_type": "stream",
     "text": [
      "              precision    recall  f1-score   support\n",
      "\n",
      "           0       0.70      0.94      0.80    367866\n",
      "           1       0.57      0.16      0.25    175615\n",
      "\n",
      "    accuracy                           0.69    543481\n",
      "   macro avg       0.64      0.55      0.53    543481\n",
      "weighted avg       0.66      0.69      0.63    543481\n",
      "\n"
     ]
    }
   ],
   "source": [
    "# Classification report\n",
    "y2_pred = logreg2_scaled.predict(X2_test)\n",
    "print(classification_report(y2_test, y2_pred))"
   ]
  },
  {
   "cell_type": "markdown",
   "metadata": {},
   "source": [
    "The high recall for 0 is an indication most Low-severity traffic accidents were predicted correctly.  The weakness appears to be identifying High Severity."
   ]
  },
  {
   "cell_type": "code",
   "execution_count": 102,
   "metadata": {},
   "outputs": [
    {
     "name": "stdout",
     "output_type": "stream",
     "text": [
      "[[346864  21002]\n",
      " [147461  28154]]\n"
     ]
    }
   ],
   "source": [
    "print(confusion_matrix(y2_test, y2_pred))"
   ]
  },
  {
   "cell_type": "code",
   "execution_count": 103,
   "metadata": {},
   "outputs": [
    {
     "name": "stdout",
     "output_type": "stream",
     "text": [
      "[[0.94290856 0.05709144]\n",
      " [0.8396834  0.1603166 ]]\n"
     ]
    }
   ],
   "source": [
    "# confusion matrix percentages\n",
    "cm = confusion_matrix(y2_test, y2_pred)\n",
    "cmpct = cm / cm.sum(axis=1).reshape(-1,1)\n",
    "print(cmpct)"
   ]
  },
  {
   "cell_type": "markdown",
   "metadata": {},
   "source": [
    "False positives in the lower left corner appear to drive the inaccuracy.  They are actual high severity traffic (1) but predicted incorrectly as low severity (0).  This is a substantial problem as motorists would be led erroneously into waiting in extensive traffic delays.  High severity accident traffic was only correctly predicted 16% of the time.  "
   ]
  },
  {
   "cell_type": "code",
   "execution_count": 104,
   "metadata": {},
   "outputs": [
    {
     "data": {
      "image/png": "[encoded data removed]",
      "text/plain": [
       "<Figure size 432x288 with 1 Axes>"
      ]
     },
     "metadata": {
      "needs_background": "light"
     },
     "output_type": "display_data"
    }
   ],
   "source": [
    "# Plotting the ROC curve\n",
    "y2_pred_prob = pipeline2.predict_proba(X2_test)[:, 1]\n",
    "fpr, tpr, thresholds = roc_curve(y2_test, y2_pred_prob)\n",
    "plt.plot([0,1], [0,1], 'k--')\n",
    "plt.plot(fpr, tpr, label = 'Logistic Regression')\n",
    "plt.xlabel('False Positive Rate')\n",
    "plt.ylabel(\"True Positive Rate\")\n",
    "plt.title('Logistic Regression ROC Curve')\n",
    "plt.show()"
   ]
  },
  {
   "cell_type": "code",
   "execution_count": 105,
   "metadata": {},
   "outputs": [
    {
     "data": {
      "text/plain": [
       "0.6679636871301144"
      ]
     },
     "execution_count": 105,
     "metadata": {},
     "output_type": "execute_result"
    }
   ],
   "source": [
    "roc_auc_score(y2_test, y2_pred_prob)"
   ]
  },
  {
   "cell_type": "markdown",
   "metadata": {},
   "source": [
    "This classifier has a poor discriminative ability."
   ]
  },
  {
   "cell_type": "markdown",
   "metadata": {},
   "source": [
    "## Comparison to Random Forest"
   ]
  },
  {
   "cell_type": "code",
   "execution_count": 5,
   "metadata": {},
   "outputs": [],
   "source": [
    "rfset = data.drop(['Weather_Timestamp', 'Weather_Condition', 'ID', 'Source', 'Severity', 'SeverityLoHi', 'Start_Time', 'End_Time', 'Start_Lat', 'Start_Lng', 'Description', 'Wind_Direction', 'Street', 'Side', 'City', 'County', 'State', 'Zipcode', 'Zip2', 'Country', 'Timezone', 'Airport_Code', 'Duration', 'Month', 'Sunrise_Sunset', 'Civil_Twilight', 'Nautical_Twilight', 'Astronomical_Twilight'], axis = 1)\n"
   ]
  },
  {
   "cell_type": "code",
   "execution_count": 6,
   "metadata": {},
   "outputs": [
    {
     "name": "stdout",
     "output_type": "stream",
     "text": [
      "RF Accuracy:  0.7395180328291145\n",
      "[[325128  42738]\n",
      " [ 98829  76786]]\n"
     ]
    }
   ],
   "source": [
    "# Run a plain RF on recreated original X, y\n",
    "from sklearn.ensemble import RandomForestClassifier\n",
    "\n",
    "# Due to robustness of Random Forest classifiers, the following pre-processing for Logistic Regression was not made:\n",
    "    # Dropping high correlation feature Wind Chill\n",
    "    # Creating binary dummy features for very low variance 'Distance', 'Precipitation', 'Visibility'\n",
    "\n",
    "rfset = data.drop(['Weather_Timestamp', 'Weather_Condition', 'ID', 'Source', 'Severity', 'SeverityLoHi', 'Start_Time', 'End_Time', 'Start_Lat', 'Start_Lng', 'Description', 'Wind_Direction', 'Street', 'Side', 'City', 'County', 'State', 'Zipcode', 'Zip2', 'Country', 'Timezone', 'Airport_Code', 'Duration', 'Month', 'Sunrise_Sunset', 'Civil_Twilight', 'Nautical_Twilight', 'Astronomical_Twilight', 'PrecipitationZero', 'DistanceZero', 'VisibilityTen'], axis = 1)\n",
    "rfset = pd.get_dummies(data = rfset, columns = ['Weather_Group', 'weekday', 'hour'] )\n",
    "\n",
    "# Separate X, y, train, test, validate\n",
    "yrf = rfset.Severity01\n",
    "Xrf = rfset.drop(['Severity01'], axis=1)\n",
    "\n",
    "Xrf_train, Xrf_test, yrf_train, yrf_test = train_test_split(Xrf, yrf, test_size = 0.2, random_state=7, stratify=y)\n",
    "Xrf_train, Xrf_valid, yrf_train, yrf_valid = train_test_split(Xrf_train, yrf_train, test_size = 0.1, random_state=7, stratify=y)\n",
    "\n",
    "rf = RandomForestClassifier()\n",
    "rf.fit(Xrf_train, yrf_train)\n",
    "\n",
    "yrf_pred= rf.predict(Xrf_test) \n",
    "print(\"RF Accuracy: \", rf.score(Xrf_test, yrf_test))\n"
   ]
  },
  {
   "cell_type": "code",
   "execution_count": 7,
   "metadata": {},
   "outputs": [
    {
     "data": {
      "text/html": [
       "<div>\n",
       "<style scoped>\n",
       "    .dataframe tbody tr th:only-of-type {\n",
       "        vertical-align: middle;\n",
       "    }\n",
       "\n",
       "    .dataframe tbody tr th {\n",
       "        vertical-align: top;\n",
       "    }\n",
       "\n",
       "    .dataframe thead th {\n",
       "        text-align: right;\n",
       "    }\n",
       "</style>\n",
       "<table border=\"1\" class=\"dataframe\">\n",
       "  <thead>\n",
       "    <tr style=\"text-align: right;\">\n",
       "      <th>Predicted Result</th>\n",
       "      <th>0</th>\n",
       "      <th>1</th>\n",
       "    </tr>\n",
       "    <tr>\n",
       "      <th>Actual Result</th>\n",
       "      <th></th>\n",
       "      <th></th>\n",
       "    </tr>\n",
       "  </thead>\n",
       "  <tbody>\n",
       "    <tr>\n",
       "      <th>0</th>\n",
       "      <td>325128</td>\n",
       "      <td>42738</td>\n",
       "    </tr>\n",
       "    <tr>\n",
       "      <th>1</th>\n",
       "      <td>98829</td>\n",
       "      <td>76786</td>\n",
       "    </tr>\n",
       "  </tbody>\n",
       "</table>\n",
       "</div>"
      ],
      "text/plain": [
       "Predicted Result       0      1\n",
       "Actual Result                  \n",
       "0                 325128  42738\n",
       "1                  98829  76786"
      ]
     },
     "execution_count": 7,
     "metadata": {},
     "output_type": "execute_result"
    }
   ],
   "source": [
    "# Confusion Matrix\n",
    "pd.crosstab(yrf_test, yrf_pred, rownames=['Actual Result'], colnames=['Predicted Result'])"
   ]
  },
  {
   "cell_type": "code",
   "execution_count": 15,
   "metadata": {},
   "outputs": [
    {
     "name": "stdout",
     "output_type": "stream",
     "text": [
      "[[0.88 0.12]\n",
      " [0.56 0.44]]\n"
     ]
    }
   ],
   "source": [
    "# Confusion Matrix percentages\n",
    "cm = confusion_matrix(yrf_test, yrf_pred)\n",
    "cmpct = np.round(cm / cm.sum(axis=1).reshape(-1,1), 2)\n",
    "print(cmpct)"
   ]
  },
  {
   "cell_type": "markdown",
   "metadata": {},
   "source": [
    "Significant improvement over Logistic Regression identifying High Severity with True Negative quadrant more than doubling.  A 30% reduction of False Positives, which are a concern, predicting incorrectly low severity traffic when in actuality it is severe."
   ]
  },
  {
   "cell_type": "code",
   "execution_count": 18,
   "metadata": {},
   "outputs": [
    {
     "data": {
      "text/plain": [
       "Text(0.5, 1.0, 'Low vs High Accident Traffic Severity Counts')"
      ]
     },
     "execution_count": 18,
     "metadata": {},
     "output_type": "execute_result"
    },
    {
     "data": {
      "image/png": "[encoded data removed]",
      "text/plain": [
       "<Figure size 432x288 with 1 Axes>"
      ]
     },
     "metadata": {
      "needs_background": "light"
     },
     "output_type": "display_data"
    }
   ],
   "source": [
    "# Twice as many Low Severity Accidents vs. High Severity\n",
    "data.SeverityLoHi.value_counts().plot(kind='bar')\n",
    "plt.title('Low vs High Accident Traffic Severity Counts')\n"
   ]
  },
  {
   "cell_type": "code",
   "execution_count": 6,
   "metadata": {},
   "outputs": [
    {
     "data": {
      "text/plain": [
       "1    880347\n",
       "0    880347\n",
       "Name: Severity01, dtype: int64"
      ]
     },
     "execution_count": 6,
     "metadata": {},
     "output_type": "execute_result"
    }
   ],
   "source": [
    "# Are high severity incidents under-represented?  Equalize count with low severity.\n",
    "high_count = rfset.Severity01[rfset.Severity01 == 1].count()\n",
    "equaldf = rfset[rfset.Severity01 == 1]\n",
    "lows = rfset[rfset.Severity01 == 0].sample(n=high_count, random_state=7)\n",
    "equaldf = equaldf.append(lows)\n",
    "equaldf.Severity01.value_counts()"
   ]
  },
  {
   "cell_type": "code",
   "execution_count": 37,
   "metadata": {},
   "outputs": [
    {
     "name": "stdout",
     "output_type": "stream",
     "text": [
      "RF Accuracy:  0.7081237806661574\n",
      "[[0.68 0.32]\n",
      " [0.26 0.74]]\n"
     ]
    }
   ],
   "source": [
    "# Check improved Confusion Matrix with equal category counts\n",
    "yrfe = equaldf.Severity01\n",
    "Xrfe = equaldf.drop(['Severity01'], axis=1)\n",
    "\n",
    "Xrfe_train, Xrfe_test, yrfe_train, yrfe_test = train_test_split(Xrfe, yrfe, test_size = 0.2, random_state=7)\n",
    "Xrfe_train, Xrfe_valid, yrfe_train, yrfe_valid = train_test_split(Xrfe_train, yrfe_train, test_size = 0.1, random_state=7)\n",
    "\n",
    "rfe = RandomForestClassifier()\n",
    "rfe.fit(Xrfe_train, yrfe_train)\n",
    "\n",
    "yrfe_pred= rfe.predict(Xrfe_test) \n",
    "print(\"RF Accuracy: \", rfe.score(Xrfe_test, yrfe_test))\n",
    "\n",
    "pd.crosstab(yrfe_test, yrfe_pred, rownames=['Actual Result'], colnames=['Predicted Result'])\n",
    "cme = confusion_matrix(yrfe_test, yrfe_pred)\n",
    "cmpcte = np.round(cme / cme.sum(axis=1).reshape(-1,1), 2)\n",
    "print(cmpcte)"
   ]
  },
  {
   "cell_type": "markdown",
   "metadata": {},
   "source": [
    "I am very pleased to see the False Positives cut by 50% further, and a higher rate of identifying High Severity Accident Traffic than Low.  As noted previously, the model needs to minimize false positives, which is High Severity incorrectly identified as Low Severity.\n",
    "\n",
    "If a motorist is told an accident will cause High Severity traffic, in error, they will take an alternate route, or be pleasantly surprised when actual traffic is less than expected, and thus a much less problematic prediction than the opposite."
   ]
  },
  {
   "cell_type": "code",
   "execution_count": 38,
   "metadata": {},
   "outputs": [
    {
     "name": "stdout",
     "output_type": "stream",
     "text": [
      "              precision    recall  f1-score   support\n",
      "\n",
      "           0       0.72      0.68      0.70    175525\n",
      "           1       0.70      0.74      0.72    176614\n",
      "\n",
      "    accuracy                           0.71    352139\n",
      "   macro avg       0.71      0.71      0.71    352139\n",
      "weighted avg       0.71      0.71      0.71    352139\n",
      "\n"
     ]
    }
   ],
   "source": [
    "# Classification report\n",
    "print(classification_report(yrfe_test, yrfe_pred))"
   ]
  },
  {
   "cell_type": "markdown",
   "metadata": {},
   "source": [
    "The weighted average F1 sore increased from 64 to 71.  "
   ]
  },
  {
   "cell_type": "code",
   "execution_count": 39,
   "metadata": {},
   "outputs": [],
   "source": [
    "# 5-fold cross-validation scores\n",
    "cv_scores = cross_val_score(rfe, Xrfe, yrfe, cv=5)"
   ]
  },
  {
   "cell_type": "code",
   "execution_count": 40,
   "metadata": {},
   "outputs": [
    {
     "name": "stdout",
     "output_type": "stream",
     "text": [
      "[0.58522913 0.62667867 0.55601907 0.62823203 0.60886925]\n",
      "Average 5-Fold CV Score: 0.6010056306567861\n"
     ]
    }
   ],
   "source": [
    "# CV Scores\n",
    "print(cv_scores)\n",
    "print(\"Average 5-Fold CV Score: {}\".format(np.mean(cv_scores)))"
   ]
  },
  {
   "cell_type": "markdown",
   "metadata": {},
   "source": [
    "Cross-validation scores are consistent, avoiding over-fitting."
   ]
  },
  {
   "cell_type": "code",
   "execution_count": 41,
   "metadata": {},
   "outputs": [
    {
     "data": {
      "image/png": "[encoded data removed]",
      "text/plain": [
       "<Figure size 432x288 with 1 Axes>"
      ]
     },
     "metadata": {
      "needs_background": "light"
     },
     "output_type": "display_data"
    }
   ],
   "source": [
    "# Plotting the ROC curve\n",
    "yrfe_pred_prob = rfe.predict_proba(Xrfe_test)[:, 1]\n",
    "fpr, tpr, thresholds = roc_curve(yrfe_test, yrfe_pred_prob)\n",
    "plt.plot([0,1], [0,1], 'k--')\n",
    "plt.plot(fpr, tpr, label = 'Random Forest')\n",
    "plt.xlabel('False Positive Rate')\n",
    "plt.ylabel(\"True Positive Rate\")\n",
    "plt.title('Random Forest ROC Curve')\n",
    "plt.show()"
   ]
  },
  {
   "cell_type": "code",
   "execution_count": 42,
   "metadata": {},
   "outputs": [
    {
     "name": "stdout",
     "output_type": "stream",
     "text": [
      "AUC:  0.7794993341545084\n"
     ]
    }
   ],
   "source": [
    "print(\"AUC: \", roc_auc_score(yrfe_test, yrfe_pred_prob))"
   ]
  },
  {
   "cell_type": "markdown",
   "metadata": {},
   "source": [
    "Area under curve improved from 66.8 to 77.9"
   ]
  },
  {
   "cell_type": "code",
   "execution_count": 43,
   "metadata": {},
   "outputs": [
    {
     "data": {
      "text/html": [
       "<div>\n",
       "<style scoped>\n",
       "    .dataframe tbody tr th:only-of-type {\n",
       "        vertical-align: middle;\n",
       "    }\n",
       "\n",
       "    .dataframe tbody tr th {\n",
       "        vertical-align: top;\n",
       "    }\n",
       "\n",
       "    .dataframe thead th {\n",
       "        text-align: right;\n",
       "    }\n",
       "</style>\n",
       "<table border=\"1\" class=\"dataframe\">\n",
       "  <thead>\n",
       "    <tr style=\"text-align: right;\">\n",
       "      <th></th>\n",
       "      <th>importance</th>\n",
       "    </tr>\n",
       "  </thead>\n",
       "  <tbody>\n",
       "    <tr>\n",
       "      <th>Duration(m)</th>\n",
       "      <td>0.141785</td>\n",
       "    </tr>\n",
       "    <tr>\n",
       "      <th>Wind_Chill(F)</th>\n",
       "      <td>0.109764</td>\n",
       "    </tr>\n",
       "    <tr>\n",
       "      <th>Pressure(in)</th>\n",
       "      <td>0.103189</td>\n",
       "    </tr>\n",
       "    <tr>\n",
       "      <th>Temperature(F)</th>\n",
       "      <td>0.096587</td>\n",
       "    </tr>\n",
       "    <tr>\n",
       "      <th>Humidity(%)</th>\n",
       "      <td>0.096222</td>\n",
       "    </tr>\n",
       "    <tr>\n",
       "      <th>Wind_Speed(mph)</th>\n",
       "      <td>0.079236</td>\n",
       "    </tr>\n",
       "    <tr>\n",
       "      <th>Distance(mi)</th>\n",
       "      <td>0.054535</td>\n",
       "    </tr>\n",
       "    <tr>\n",
       "      <th>Precipitation(in)</th>\n",
       "      <td>0.051111</td>\n",
       "    </tr>\n",
       "    <tr>\n",
       "      <th>Traffic_Signal</th>\n",
       "      <td>0.045925</td>\n",
       "    </tr>\n",
       "    <tr>\n",
       "      <th>Visibility(mi)</th>\n",
       "      <td>0.023941</td>\n",
       "    </tr>\n",
       "    <tr>\n",
       "      <th>Crossing</th>\n",
       "      <td>0.015424</td>\n",
       "    </tr>\n",
       "    <tr>\n",
       "      <th>weekday_Thu</th>\n",
       "      <td>0.008728</td>\n",
       "    </tr>\n",
       "    <tr>\n",
       "      <th>weekday_Fri</th>\n",
       "      <td>0.008684</td>\n",
       "    </tr>\n",
       "    <tr>\n",
       "      <th>weekday_Wed</th>\n",
       "      <td>0.008509</td>\n",
       "    </tr>\n",
       "    <tr>\n",
       "      <th>weekday_Tue</th>\n",
       "      <td>0.008503</td>\n",
       "    </tr>\n",
       "    <tr>\n",
       "      <th>weekday_Mon</th>\n",
       "      <td>0.008366</td>\n",
       "    </tr>\n",
       "    <tr>\n",
       "      <th>Junction</th>\n",
       "      <td>0.007791</td>\n",
       "    </tr>\n",
       "    <tr>\n",
       "      <th>weekday_Sat</th>\n",
       "      <td>0.007527</td>\n",
       "    </tr>\n",
       "    <tr>\n",
       "      <th>weekday_Sun</th>\n",
       "      <td>0.006717</td>\n",
       "    </tr>\n",
       "    <tr>\n",
       "      <th>Weather_Group_Cloudy</th>\n",
       "      <td>0.006085</td>\n",
       "    </tr>\n",
       "    <tr>\n",
       "      <th>DayNight01</th>\n",
       "      <td>0.005978</td>\n",
       "    </tr>\n",
       "    <tr>\n",
       "      <th>hour_17</th>\n",
       "      <td>0.005664</td>\n",
       "    </tr>\n",
       "    <tr>\n",
       "      <th>Stop</th>\n",
       "      <td>0.005464</td>\n",
       "    </tr>\n",
       "    <tr>\n",
       "      <th>Weather_Group_Clear</th>\n",
       "      <td>0.005214</td>\n",
       "    </tr>\n",
       "    <tr>\n",
       "      <th>hour_18</th>\n",
       "      <td>0.005143</td>\n",
       "    </tr>\n",
       "    <tr>\n",
       "      <th>hour_16</th>\n",
       "      <td>0.005130</td>\n",
       "    </tr>\n",
       "    <tr>\n",
       "      <th>hour_15</th>\n",
       "      <td>0.004814</td>\n",
       "    </tr>\n",
       "    <tr>\n",
       "      <th>hour_6</th>\n",
       "      <td>0.004688</td>\n",
       "    </tr>\n",
       "    <tr>\n",
       "      <th>hour_9</th>\n",
       "      <td>0.004629</td>\n",
       "    </tr>\n",
       "    <tr>\n",
       "      <th>hour_14</th>\n",
       "      <td>0.004539</td>\n",
       "    </tr>\n",
       "    <tr>\n",
       "      <th>hour_13</th>\n",
       "      <td>0.004405</td>\n",
       "    </tr>\n",
       "    <tr>\n",
       "      <th>hour_12</th>\n",
       "      <td>0.004373</td>\n",
       "    </tr>\n",
       "    <tr>\n",
       "      <th>hour_19</th>\n",
       "      <td>0.004211</td>\n",
       "    </tr>\n",
       "    <tr>\n",
       "      <th>hour_10</th>\n",
       "      <td>0.004039</td>\n",
       "    </tr>\n",
       "    <tr>\n",
       "      <th>hour_7</th>\n",
       "      <td>0.003973</td>\n",
       "    </tr>\n",
       "    <tr>\n",
       "      <th>hour_11</th>\n",
       "      <td>0.003939</td>\n",
       "    </tr>\n",
       "    <tr>\n",
       "      <th>hour_8</th>\n",
       "      <td>0.003742</td>\n",
       "    </tr>\n",
       "    <tr>\n",
       "      <th>Weather_Group_Light Precip</th>\n",
       "      <td>0.003332</td>\n",
       "    </tr>\n",
       "    <tr>\n",
       "      <th>hour_20</th>\n",
       "      <td>0.003025</td>\n",
       "    </tr>\n",
       "    <tr>\n",
       "      <th>Station</th>\n",
       "      <td>0.002944</td>\n",
       "    </tr>\n",
       "    <tr>\n",
       "      <th>hour_5</th>\n",
       "      <td>0.002896</td>\n",
       "    </tr>\n",
       "    <tr>\n",
       "      <th>Amenity</th>\n",
       "      <td>0.002532</td>\n",
       "    </tr>\n",
       "    <tr>\n",
       "      <th>hour_21</th>\n",
       "      <td>0.001914</td>\n",
       "    </tr>\n",
       "    <tr>\n",
       "      <th>hour_4</th>\n",
       "      <td>0.001890</td>\n",
       "    </tr>\n",
       "    <tr>\n",
       "      <th>hour_22</th>\n",
       "      <td>0.001752</td>\n",
       "    </tr>\n",
       "    <tr>\n",
       "      <th>Weather_Group_Obscured</th>\n",
       "      <td>0.001691</td>\n",
       "    </tr>\n",
       "    <tr>\n",
       "      <th>Railway</th>\n",
       "      <td>0.001494</td>\n",
       "    </tr>\n",
       "    <tr>\n",
       "      <th>hour_23</th>\n",
       "      <td>0.001410</td>\n",
       "    </tr>\n",
       "    <tr>\n",
       "      <th>hour_0</th>\n",
       "      <td>0.001182</td>\n",
       "    </tr>\n",
       "    <tr>\n",
       "      <th>hour_3</th>\n",
       "      <td>0.001035</td>\n",
       "    </tr>\n",
       "    <tr>\n",
       "      <th>hour_2</th>\n",
       "      <td>0.001024</td>\n",
       "    </tr>\n",
       "    <tr>\n",
       "      <th>hour_1</th>\n",
       "      <td>0.001006</td>\n",
       "    </tr>\n",
       "    <tr>\n",
       "      <th>Weather_Group_Heavy Precip</th>\n",
       "      <td>0.000975</td>\n",
       "    </tr>\n",
       "    <tr>\n",
       "      <th>Give_Way</th>\n",
       "      <td>0.000657</td>\n",
       "    </tr>\n",
       "    <tr>\n",
       "      <th>No_Exit</th>\n",
       "      <td>0.000255</td>\n",
       "    </tr>\n",
       "    <tr>\n",
       "      <th>Weather_Group_Windy</th>\n",
       "      <td>0.000242</td>\n",
       "    </tr>\n",
       "    <tr>\n",
       "      <th>Traffic_Calming</th>\n",
       "      <td>0.000107</td>\n",
       "    </tr>\n",
       "    <tr>\n",
       "      <th>Roundabout</th>\n",
       "      <td>0.000037</td>\n",
       "    </tr>\n",
       "    <tr>\n",
       "      <th>Bump</th>\n",
       "      <td>0.000026</td>\n",
       "    </tr>\n",
       "    <tr>\n",
       "      <th>Turning_Loop</th>\n",
       "      <td>0.000000</td>\n",
       "    </tr>\n",
       "  </tbody>\n",
       "</table>\n",
       "</div>"
      ],
      "text/plain": [
       "                            importance\n",
       "Duration(m)                   0.141785\n",
       "Wind_Chill(F)                 0.109764\n",
       "Pressure(in)                  0.103189\n",
       "Temperature(F)                0.096587\n",
       "Humidity(%)                   0.096222\n",
       "Wind_Speed(mph)               0.079236\n",
       "Distance(mi)                  0.054535\n",
       "Precipitation(in)             0.051111\n",
       "Traffic_Signal                0.045925\n",
       "Visibility(mi)                0.023941\n",
       "Crossing                      0.015424\n",
       "weekday_Thu                   0.008728\n",
       "weekday_Fri                   0.008684\n",
       "weekday_Wed                   0.008509\n",
       "weekday_Tue                   0.008503\n",
       "weekday_Mon                   0.008366\n",
       "Junction                      0.007791\n",
       "weekday_Sat                   0.007527\n",
       "weekday_Sun                   0.006717\n",
       "Weather_Group_Cloudy          0.006085\n",
       "DayNight01                    0.005978\n",
       "hour_17                       0.005664\n",
       "Stop                          0.005464\n",
       "Weather_Group_Clear           0.005214\n",
       "hour_18                       0.005143\n",
       "hour_16                       0.005130\n",
       "hour_15                       0.004814\n",
       "hour_6                        0.004688\n",
       "hour_9                        0.004629\n",
       "hour_14                       0.004539\n",
       "hour_13                       0.004405\n",
       "hour_12                       0.004373\n",
       "hour_19                       0.004211\n",
       "hour_10                       0.004039\n",
       "hour_7                        0.003973\n",
       "hour_11                       0.003939\n",
       "hour_8                        0.003742\n",
       "Weather_Group_Light Precip    0.003332\n",
       "hour_20                       0.003025\n",
       "Station                       0.002944\n",
       "hour_5                        0.002896\n",
       "Amenity                       0.002532\n",
       "hour_21                       0.001914\n",
       "hour_4                        0.001890\n",
       "hour_22                       0.001752\n",
       "Weather_Group_Obscured        0.001691\n",
       "Railway                       0.001494\n",
       "hour_23                       0.001410\n",
       "hour_0                        0.001182\n",
       "hour_3                        0.001035\n",
       "hour_2                        0.001024\n",
       "hour_1                        0.001006\n",
       "Weather_Group_Heavy Precip    0.000975\n",
       "Give_Way                      0.000657\n",
       "No_Exit                       0.000255\n",
       "Weather_Group_Windy           0.000242\n",
       "Traffic_Calming               0.000107\n",
       "Roundabout                    0.000037\n",
       "Bump                          0.000026\n",
       "Turning_Loop                  0.000000"
      ]
     },
     "metadata": {},
     "output_type": "display_data"
    }
   ],
   "source": [
    "feature_importances = pd.DataFrame(rfe.feature_importances_,\n",
    "                                   index = Xrfe_train.columns,\n",
    "                                    columns=['importance']).sort_values('importance', ascending=False)\n",
    "pd.set_option('display.max_rows', 65)\n",
    "display(feature_importances)\n",
    "pd.reset_option('display.max_rows')"
   ]
  },
  {
   "cell_type": "markdown",
   "metadata": {},
   "source": [
    "The Random Forest relied considerably more upon weather features than Logistic Regression, in nine of the first ten ranks.  Traffic Signal and Crosswalk are again the top non-weather features, followed by all of the days close together.\n",
    "\n",
    "Is there more improvement ignoring days, hours, weather groups and everything lower?"
   ]
  },
  {
   "cell_type": "code",
   "execution_count": 8,
   "metadata": {},
   "outputs": [
    {
     "name": "stdout",
     "output_type": "stream",
     "text": [
      "RF Accuracy:  0.686714621214918\n",
      "[[0.64 0.36]\n",
      " [0.27 0.73]]\n"
     ]
    }
   ],
   "source": [
    "# Rerun with most important features\n",
    "from sklearn.ensemble import RandomForestClassifier\n",
    "yrfe = equaldf.Severity01\n",
    "Xrfe11 = equaldf[['Duration(m)', 'Wind_Chill(F)', 'Pressure(in)', 'Temperature(F)', 'Humidity(%)', 'Wind_Speed(mph)', 'Distance(mi)', 'Precipitation(in)', 'Traffic_Signal', 'Visibility(mi)', 'Crossing']]\n",
    "\n",
    "Xrfe11_train, Xrfe11_test, yrfe_train, yrfe_test = train_test_split(Xrfe11, yrfe, test_size = 0.2, random_state=7)\n",
    "Xrfe11_train, Xrfe11_valid, yrfe_train, yrfe_valid = train_test_split(Xrfe11_train, yrfe_train, test_size = 0.1, random_state=7)\n",
    "\n",
    "rfe11 = RandomForestClassifier()\n",
    "rfe11.fit(Xrfe11_train, yrfe_train)\n",
    "\n",
    "yrfe_pred= rfe11.predict(Xrfe11_test) \n",
    "print(\"RF Accuracy: \", rfe11.score(Xrfe11_test, yrfe_test))\n",
    "\n",
    "pd.crosstab(yrfe_test, yrfe_pred, rownames=['Actual Result'], colnames=['Predicted Result'])\n",
    "cme11 = confusion_matrix(yrfe_test, yrfe_pred)\n",
    "cmpcte11 = np.round(cme11 / cme11.sum(axis=1).reshape(-1,1), 2)\n",
    "print(cmpcte11)"
   ]
  },
  {
   "cell_type": "markdown",
   "metadata": {},
   "source": [
    "Slightly underperforming what we had previously with all the fields.  False Positives only went up 1 point, but reduced from 60 fields to 11 to lesson computational load for hyperparameter tuning."
   ]
  },
  {
   "cell_type": "markdown",
   "metadata": {},
   "source": [
    "## Hyperparameter Tuning"
   ]
  },
  {
   "cell_type": "code",
   "execution_count": 9,
   "metadata": {},
   "outputs": [
    {
     "name": "stdout",
     "output_type": "stream",
     "text": [
      "Fitting 3 folds for each of 50 candidates, totalling 150 fits\n"
     ]
    },
    {
     "name": "stderr",
     "output_type": "stream",
     "text": [
      "[Parallel(n_jobs=-1)]: Using backend LokyBackend with 8 concurrent workers.\n",
      "[Parallel(n_jobs=-1)]: Done  25 tasks      | elapsed: 14.1min\n",
      "C:\\Users\\ggibs\\Anaconda3\\lib\\site-packages\\joblib\\externals\\loky\\process_executor.py:706: UserWarning: A worker stopped while some jobs were given to the executor. This can be caused by a too short worker timeout or by a memory leak.\n",
      "  \"timeout or by a memory leak.\", UserWarning\n",
      "[Parallel(n_jobs=-1)]: Done 150 out of 150 | elapsed: 83.3min finished\n"
     ]
    },
    {
     "data": {
      "text/plain": [
       "{'n_estimators': 200,\n",
       " 'min_samples_split': 2,\n",
       " 'min_samples_leaf': 4,\n",
       " 'max_features': 'auto',\n",
       " 'max_depth': 20}"
      ]
     },
     "execution_count": 9,
     "metadata": {},
     "output_type": "execute_result"
    }
   ],
   "source": [
    "# Random Hyperparameter Grid\n",
    "from sklearn.ensemble import RandomForestClassifier\n",
    "\n",
    "# Number of trees in random forest\n",
    "n_estimators = [int(x) for x in np.linspace(start = 100, stop = 1000, num = 10)]\n",
    "# Number of features to consider at every split\n",
    "max_features = ['auto', 'sqrt']\n",
    "# Maximum number of levels in tree\n",
    "max_depth = [int(x) for x in np.linspace(10, 110, num = 11)]\n",
    "max_depth.append(None)\n",
    "# Minimum number of samples required to split a node\n",
    "min_samples_split = [2, 5, 10]\n",
    "# Minimum number of samples required at each leaf node\n",
    "min_samples_leaf = [1, 2, 4]\n",
    "# Method of selecting samples for training each tree\n",
    "bootstrap = [True, False]\n",
    "# Create the random grid\n",
    "random_grid = {'n_estimators': n_estimators,\n",
    "               'max_features': max_features,\n",
    "               'max_depth': max_depth,\n",
    "               'min_samples_split': min_samples_split,\n",
    "               'min_samples_leaf': min_samples_leaf}\n",
    "#               'bootstrap': bootstrap}\n",
    "\n",
    "# Random Search Training\n",
    "\n",
    "# Use the random grid to search for best hyperparameters\n",
    "# First create the base model to tune\n",
    "rfc = RandomForestClassifier()\n",
    "# Random search of parameters, using 3 fold cross validation, \n",
    "# search across 50 different combinations, and use all available cores\n",
    "rfc_random = RandomizedSearchCV(estimator = rfc, param_distributions = random_grid, n_iter = 50, cv = 3, verbose=2, random_state=7, n_jobs = -1)\n",
    "# Fit the random search model\n",
    "rfc_random.fit(Xrfe11_valid, yrfe_valid)\n",
    "\n",
    "rfc_random.best_params_"
   ]
  },
  {
   "cell_type": "code",
   "execution_count": 12,
   "metadata": {},
   "outputs": [
    {
     "name": "stdout",
     "output_type": "stream",
     "text": [
      "RF Accuracy:  0.6810577641215543\n",
      "[[0.63 0.37]\n",
      " [0.27 0.73]]\n"
     ]
    }
   ],
   "source": [
    "rf_tune = RandomForestClassifier(n_estimators = 200, min_samples_split = 2, min_samples_leaf = 4, max_depth = 20)\n",
    "rf_tune.fit(Xrfe11_train, yrfe_train)\n",
    "\n",
    "ytune_pred= rf_tune.predict(Xrfe11_test) \n",
    "print(\"RF Accuracy: \", rf_tune.score(Xrfe11_test, yrfe_test))\n",
    "\n",
    "pd.crosstab(yrfe_test, ytune_pred, rownames=['Actual Result'], colnames=['Predicted Result'])\n",
    "cm_tune = confusion_matrix(yrfe_test, ytune_pred)\n",
    "cmpct_tune = np.round(cm_tune / cm_tune.sum(axis=1).reshape(-1,1), 2)\n",
    "print(cmpct_tune)"
   ]
  },
  {
   "cell_type": "markdown",
   "metadata": {},
   "source": [
    "Hyperparameter tuning on the reduced feature count was not an improvement.  True Positives declined 1 point and accuracy fell half a percent."
   ]
  }
 ],
 "metadata": {
  "kernelspec": {
   "display_name": "Python 3",
   "language": "python",
   "name": "python3"
  },
  "language_info": {
   "codemirror_mode": {
    "name": "ipython",
    "version": 3
   },
   "file_extension": ".py",
   "mimetype": "text/x-python",
   "name": "python",
   "nbconvert_exporter": "python",
   "pygments_lexer": "ipython3",
   "version": "3.7.6"
  }
 },
 "nbformat": 4,
 "nbformat_minor": 4
}
