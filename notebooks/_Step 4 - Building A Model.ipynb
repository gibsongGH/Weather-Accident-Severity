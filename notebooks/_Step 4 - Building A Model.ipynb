{
 "cells": [
  {
   "cell_type": "markdown",
   "metadata": {},
   "source": [
    "## Logistic Regression to Predict High or Low Traffic Accident Severity"
   ]
  },
  {
   "cell_type": "markdown",
   "metadata": {},
   "source": [
    "First pass accuracy was 69.44% and below are original classification and confusion matrix.  Updates are adding Distance, Precipitation and Visibility as binary columns and identifying feature reduction."
   ]
  },
  {
   "cell_type": "code",
   "execution_count": 30,
   "metadata": {},
   "outputs": [
    {
     "data": {
      "text/plain": [
       "0.6944069801888199"
      ]
     },
     "execution_count": 30,
     "metadata": {},
     "output_type": "execute_result"
    }
   ],
   "source": [
    "# accuracy_score first pass (y_test, y_pred)"
   ]
  },
  {
   "cell_type": "code",
   "execution_count": 33,
   "metadata": {},
   "outputs": [
    {
     "name": "stdout",
     "output_type": "stream",
     "text": [
      "              precision    recall  f1-score   support\n",
      "\n",
      "           0       0.71      0.94      0.81    367866\n",
      "           1       0.59      0.18      0.28    175615\n",
      "\n",
      "    accuracy                           0.69    543481\n",
      "   macro avg       0.65      0.56      0.54    543481\n",
      "weighted avg       0.67      0.69      0.64    543481\n",
      "\n"
     ]
    }
   ],
   "source": [
    "# classification report first pass\n",
    "# print(classification_report(y_test, y_pred))"
   ]
  },
  {
   "cell_type": "code",
   "execution_count": 32,
   "metadata": {},
   "outputs": [
    {
     "name": "stdout",
     "output_type": "stream",
     "text": [
      "[[345447  22419]\n",
      " [143665  31950]]\n"
     ]
    }
   ],
   "source": [
    "# confusion matrix first pass\n",
    "# print(confusion_matrix(y_test, y_pred))"
   ]
  },
  {
   "cell_type": "markdown",
   "metadata": {},
   "source": [
    "False positives in the lower left corner appear to drive the inaccuracy"
   ]
  },
  {
   "cell_type": "markdown",
   "metadata": {},
   "source": [
    "The high recall for 0 is an indication most low-severity traffic accidents were predicted correctly."
   ]
  },
  {
   "cell_type": "code",
   "execution_count": 37,
   "metadata": {},
   "outputs": [
    {
     "name": "stdout",
     "output_type": "stream",
     "text": [
      "[0.69358818 0.6947529  0.69213827 0.68903789 0.69176419]\n",
      "Average 5-Fold CV Score: 0.6922562855975413\n"
     ]
    }
   ],
   "source": [
    "# 5-fold cross-validation scores\n",
    "cv_scores = cross_val_score(pipeline, X, y, cv=5)\n",
    "\n",
    "# CV Scores first pass\n",
    "print(cv_scores)\n",
    "print(\"Average 5-Fold CV Score: {}\".format(np.mean(cv_scores)))"
   ]
  },
  {
   "cell_type": "markdown",
   "metadata": {},
   "source": [
    "I don't believe there is overfitting due to the low variation in cross-validation."
   ]
  },
  {
   "cell_type": "code",
   "execution_count": 3,
   "metadata": {},
   "outputs": [],
   "source": [
    "from sklearn.linear_model import LogisticRegression\n",
    "from sklearn.tree import DecisionTreeClassifier\n",
    "from sklearn.model_selection import train_test_split, cross_val_score, GridSearchCV, RandomizedSearchCV, KFold\n",
    "from sklearn.metrics import confusion_matrix, classification_report, roc_curve, roc_auc_score, accuracy_score\n",
    "from sklearn.preprocessing import StandardScaler\n",
    "from sklearn.pipeline import Pipeline\n",
    "import pandas as pd\n",
    "import numpy as np\n",
    "import matplotlib.pyplot as plt\n"
   ]
  },
  {
   "cell_type": "code",
   "execution_count": 4,
   "metadata": {},
   "outputs": [],
   "source": [
    "data = pd.read_csv('C:/data/Accidents.csv')"
   ]
  },
  {
   "cell_type": "code",
   "execution_count": 5,
   "metadata": {},
   "outputs": [],
   "source": [
    "# Reduce traffic Severity from four categories down to two for Logistic Regression\n",
    "data['Severity01'] = data['Severity'].apply(lambda x: 1 if x >= 3 else 0)\n",
    "data['SeverityLoHi'] = data['Severity'].apply(lambda x: \"High\" if x >= 3 else \"Low\")"
   ]
  },
  {
   "cell_type": "code",
   "execution_count": 6,
   "metadata": {},
   "outputs": [],
   "source": [
    "# These features with a high percentage of single values made binary\n",
    "data['DistanceZero'] = data['Distance(mi)'].apply(lambda x: 1 if x == 0 else 0)\n",
    "data['PrecipitationZero'] = data['Precipitation(in)'].apply(lambda x: 1 if x == 0 else 0)\n",
    "data['VisibilityTen'] = data['Distance(mi)'].apply(lambda x: 1 if x == 10 else 0)"
   ]
  },
  {
   "cell_type": "code",
   "execution_count": 7,
   "metadata": {},
   "outputs": [],
   "source": [
    "# Convert Civil Twilight from Day Night to 0 1\n",
    "data['DayNight01'] = data['Civil_Twilight'].apply(lambda x: 1 if x == 'Night' else 0)"
   ]
  },
  {
   "cell_type": "code",
   "execution_count": 18,
   "metadata": {},
   "outputs": [
    {
     "data": {
      "text/plain": [
       "Text(0.5, 1.0, 'Low vs High Accident Traffic Severity Counts')"
      ]
     },
     "execution_count": 18,
     "metadata": {},
     "output_type": "execute_result"
    },
    {
     "data": {
      "image/png": "[encoded data removed]",
      "text/plain": [
       "<Figure size 432x288 with 1 Axes>"
      ]
     },
     "metadata": {
      "needs_background": "light"
     },
     "output_type": "display_data"
    }
   ],
   "source": [
    "# Twice as many Low Severity Accidents vs. High Severity\n",
    "data.SeverityLoHi.value_counts().plot(kind='bar')\n",
    "plt.title('Low vs High Accident Traffic Severity Counts')\n"
   ]
  },
  {
   "cell_type": "code",
   "execution_count": 8,
   "metadata": {},
   "outputs": [],
   "source": [
    "subset = data.drop(['Weather_Timestamp', 'Weather_Condition', 'ID', 'Source', 'Severity', 'SeverityLoHi', 'Start_Time', 'End_Time', 'Start_Lat', 'Start_Lng', 'Description', 'Wind_Direction', 'Street', 'Side', 'City', 'County', 'State', 'Zipcode', 'Zip2', 'Country', 'Timezone', 'Airport_Code', 'Duration', 'Month', 'Sunrise_Sunset', 'Civil_Twilight', 'Nautical_Twilight', 'Astronomical_Twilight'], axis = 1)"
   ]
  },
  {
   "cell_type": "code",
   "execution_count": 9,
   "metadata": {},
   "outputs": [],
   "source": [
    "subset = pd.get_dummies(data = subset, columns = ['Weather_Group', 'weekday', 'hour'] )"
   ]
  },
  {
   "cell_type": "code",
   "execution_count": 21,
   "metadata": {},
   "outputs": [
    {
     "data": {
      "text/plain": [
       "Index(['Distance(mi)', 'Temperature(F)', 'Wind_Chill(F)', 'Humidity(%)',\n",
       "       'Pressure(in)', 'Visibility(mi)', 'Wind_Speed(mph)',\n",
       "       'Precipitation(in)', 'Amenity', 'Bump', 'Crossing', 'Give_Way',\n",
       "       'Junction', 'No_Exit', 'Railway', 'Roundabout', 'Station', 'Stop',\n",
       "       'Traffic_Calming', 'Traffic_Signal', 'Turning_Loop', 'Duration(m)',\n",
       "       'Severity01', 'DistanceZero', 'PrecipitationZero', 'VisibilityTen',\n",
       "       'DayNight01', 'Weather_Group_Clear', 'Weather_Group_Cloudy',\n",
       "       'Weather_Group_Heavy Precip', 'Weather_Group_Light Precip',\n",
       "       'Weather_Group_Obscured', 'Weather_Group_Windy', 'weekday_Fri',\n",
       "       'weekday_Mon', 'weekday_Sat', 'weekday_Sun', 'weekday_Thu',\n",
       "       'weekday_Tue', 'weekday_Wed', 'hour_0', 'hour_1', 'hour_2', 'hour_3',\n",
       "       'hour_4', 'hour_5', 'hour_6', 'hour_7', 'hour_8', 'hour_9', 'hour_10',\n",
       "       'hour_11', 'hour_12', 'hour_13', 'hour_14', 'hour_15', 'hour_16',\n",
       "       'hour_17', 'hour_18', 'hour_19', 'hour_20', 'hour_21', 'hour_22',\n",
       "       'hour_23'],\n",
       "      dtype='object')"
      ]
     },
     "execution_count": 21,
     "metadata": {},
     "output_type": "execute_result"
    }
   ],
   "source": [
    "subset.columns"
   ]
  },
  {
   "cell_type": "code",
   "execution_count": 22,
   "metadata": {},
   "outputs": [
    {
     "data": {
      "text/plain": [
       "(2717404, 64)"
      ]
     },
     "execution_count": 22,
     "metadata": {},
     "output_type": "execute_result"
    }
   ],
   "source": [
    "subset.shape"
   ]
  },
  {
   "cell_type": "markdown",
   "metadata": {},
   "source": [
    "## Feature Reduction"
   ]
  },
  {
   "cell_type": "code",
   "execution_count": 25,
   "metadata": {},
   "outputs": [
    {
     "name": "stdout",
     "output_type": "stream",
     "text": [
      "                Temperature(F)  Wind_Chill(F)\n",
      "Temperature(F)        1.000000       0.833849\n",
      "Wind_Chill(F)         0.833849       1.000000\n"
     ]
    }
   ],
   "source": [
    "# In EDA, only correlation over 50% was between Temperature and Wind Chill.  Remove Wind Chill.\n",
    "old_corr = subset[['Temperature(F)', 'Wind_Chill(F)']]\n",
    "corr = old_corr.corr(method = 'pearson')\n",
    "print(corr)"
   ]
  },
  {
   "cell_type": "code",
   "execution_count": 10,
   "metadata": {},
   "outputs": [],
   "source": [
    "subset = subset.drop(['Wind_Chill(F)'], axis = 1)"
   ]
  },
  {
   "cell_type": "code",
   "execution_count": 11,
   "metadata": {},
   "outputs": [],
   "source": [
    "# Separate X, y\n",
    "y = subset.Severity01\n",
    "X = subset.drop(['Severity01'], axis=1)"
   ]
  },
  {
   "cell_type": "code",
   "execution_count": 30,
   "metadata": {},
   "outputs": [
    {
     "data": {
      "text/plain": [
       "(2717404, 62)"
      ]
     },
     "execution_count": 30,
     "metadata": {},
     "output_type": "execute_result"
    }
   ],
   "source": [
    "X.shape"
   ]
  },
  {
   "cell_type": "code",
   "execution_count": 12,
   "metadata": {},
   "outputs": [
    {
     "data": {
      "text/plain": [
       "DecisionTreeClassifier(ccp_alpha=0.0, class_weight=None, criterion='entropy',\n",
       "                       max_depth=10, max_features=None, max_leaf_nodes=None,\n",
       "                       min_impurity_decrease=0.0, min_impurity_split=None,\n",
       "                       min_samples_leaf=1, min_samples_split=2,\n",
       "                       min_weight_fraction_leaf=0.0, presort='deprecated',\n",
       "                       random_state=7, splitter='best')"
      ]
     },
     "execution_count": 12,
     "metadata": {},
     "output_type": "execute_result"
    }
   ],
   "source": [
    "# Run a tree-based estimator\n",
    "\n",
    "dt = DecisionTreeClassifier(random_state = 7, criterion = 'entropy', max_depth =10)\n",
    "dt.fit(X, y)"
   ]
  },
  {
   "cell_type": "code",
   "execution_count": 13,
   "metadata": {},
   "outputs": [],
   "source": [
    "# Feature importance rank\n",
    "fi_col = []\n",
    "fi = []\n",
    "for i, column in enumerate(subset.drop(['Severity01'], axis=1)):\n",
    "    fi_col.append(column)\n",
    "    fi.append(dt.feature_importances_[i])    # attribute of Decision Tree Classifier"
   ]
  },
  {
   "cell_type": "code",
   "execution_count": 15,
   "metadata": {},
   "outputs": [
    {
     "data": {
      "text/html": [
       "<div>\n",
       "<style scoped>\n",
       "    .dataframe tbody tr th:only-of-type {\n",
       "        vertical-align: middle;\n",
       "    }\n",
       "\n",
       "    .dataframe tbody tr th {\n",
       "        vertical-align: top;\n",
       "    }\n",
       "\n",
       "    .dataframe thead th {\n",
       "        text-align: right;\n",
       "    }\n",
       "</style>\n",
       "<table border=\"1\" class=\"dataframe\">\n",
       "  <thead>\n",
       "    <tr style=\"text-align: right;\">\n",
       "      <th></th>\n",
       "      <th>index</th>\n",
       "      <th>Feature</th>\n",
       "      <th>Importance</th>\n",
       "    </tr>\n",
       "  </thead>\n",
       "  <tbody>\n",
       "    <tr>\n",
       "      <th>0</th>\n",
       "      <td>20</td>\n",
       "      <td>Duration(m)</td>\n",
       "      <td>0.380498</td>\n",
       "    </tr>\n",
       "    <tr>\n",
       "      <th>1</th>\n",
       "      <td>18</td>\n",
       "      <td>Traffic_Signal</td>\n",
       "      <td>0.309682</td>\n",
       "    </tr>\n",
       "    <tr>\n",
       "      <th>2</th>\n",
       "      <td>0</td>\n",
       "      <td>Distance(mi)</td>\n",
       "      <td>0.104732</td>\n",
       "    </tr>\n",
       "    <tr>\n",
       "      <th>3</th>\n",
       "      <td>16</td>\n",
       "      <td>Stop</td>\n",
       "      <td>0.032127</td>\n",
       "    </tr>\n",
       "    <tr>\n",
       "      <th>4</th>\n",
       "      <td>11</td>\n",
       "      <td>Junction</td>\n",
       "      <td>0.031207</td>\n",
       "    </tr>\n",
       "    <tr>\n",
       "      <th>5</th>\n",
       "      <td>33</td>\n",
       "      <td>weekday_Sat</td>\n",
       "      <td>0.029693</td>\n",
       "    </tr>\n",
       "    <tr>\n",
       "      <th>6</th>\n",
       "      <td>9</td>\n",
       "      <td>Crossing</td>\n",
       "      <td>0.028131</td>\n",
       "    </tr>\n",
       "    <tr>\n",
       "      <th>7</th>\n",
       "      <td>34</td>\n",
       "      <td>weekday_Sun</td>\n",
       "      <td>0.026977</td>\n",
       "    </tr>\n",
       "    <tr>\n",
       "      <th>8</th>\n",
       "      <td>24</td>\n",
       "      <td>DayNight01</td>\n",
       "      <td>0.020618</td>\n",
       "    </tr>\n",
       "    <tr>\n",
       "      <th>9</th>\n",
       "      <td>3</td>\n",
       "      <td>Pressure(in)</td>\n",
       "      <td>0.009415</td>\n",
       "    </tr>\n",
       "    <tr>\n",
       "      <th>10</th>\n",
       "      <td>1</td>\n",
       "      <td>Temperature(F)</td>\n",
       "      <td>0.005383</td>\n",
       "    </tr>\n",
       "    <tr>\n",
       "      <th>11</th>\n",
       "      <td>5</td>\n",
       "      <td>Wind_Speed(mph)</td>\n",
       "      <td>0.004655</td>\n",
       "    </tr>\n",
       "    <tr>\n",
       "      <th>12</th>\n",
       "      <td>61</td>\n",
       "      <td>hour_23</td>\n",
       "      <td>0.001765</td>\n",
       "    </tr>\n",
       "    <tr>\n",
       "      <th>13</th>\n",
       "      <td>60</td>\n",
       "      <td>hour_22</td>\n",
       "      <td>0.001680</td>\n",
       "    </tr>\n",
       "    <tr>\n",
       "      <th>14</th>\n",
       "      <td>55</td>\n",
       "      <td>hour_17</td>\n",
       "      <td>0.001511</td>\n",
       "    </tr>\n",
       "    <tr>\n",
       "      <th>15</th>\n",
       "      <td>56</td>\n",
       "      <td>hour_18</td>\n",
       "      <td>0.001430</td>\n",
       "    </tr>\n",
       "    <tr>\n",
       "      <th>16</th>\n",
       "      <td>2</td>\n",
       "      <td>Humidity(%)</td>\n",
       "      <td>0.001424</td>\n",
       "    </tr>\n",
       "    <tr>\n",
       "      <th>17</th>\n",
       "      <td>10</td>\n",
       "      <td>Give_Way</td>\n",
       "      <td>0.001181</td>\n",
       "    </tr>\n",
       "    <tr>\n",
       "      <th>18</th>\n",
       "      <td>6</td>\n",
       "      <td>Precipitation(in)</td>\n",
       "      <td>0.001139</td>\n",
       "    </tr>\n",
       "    <tr>\n",
       "      <th>19</th>\n",
       "      <td>54</td>\n",
       "      <td>hour_16</td>\n",
       "      <td>0.000892</td>\n",
       "    </tr>\n",
       "    <tr>\n",
       "      <th>20</th>\n",
       "      <td>53</td>\n",
       "      <td>hour_15</td>\n",
       "      <td>0.000792</td>\n",
       "    </tr>\n",
       "    <tr>\n",
       "      <th>21</th>\n",
       "      <td>25</td>\n",
       "      <td>Weather_Group_Clear</td>\n",
       "      <td>0.000755</td>\n",
       "    </tr>\n",
       "    <tr>\n",
       "      <th>22</th>\n",
       "      <td>44</td>\n",
       "      <td>hour_6</td>\n",
       "      <td>0.000655</td>\n",
       "    </tr>\n",
       "    <tr>\n",
       "      <th>23</th>\n",
       "      <td>22</td>\n",
       "      <td>PrecipitationZero</td>\n",
       "      <td>0.000442</td>\n",
       "    </tr>\n",
       "    <tr>\n",
       "      <th>24</th>\n",
       "      <td>7</td>\n",
       "      <td>Amenity</td>\n",
       "      <td>0.000424</td>\n",
       "    </tr>\n",
       "    <tr>\n",
       "      <th>25</th>\n",
       "      <td>4</td>\n",
       "      <td>Visibility(mi)</td>\n",
       "      <td>0.000332</td>\n",
       "    </tr>\n",
       "    <tr>\n",
       "      <th>26</th>\n",
       "      <td>15</td>\n",
       "      <td>Station</td>\n",
       "      <td>0.000282</td>\n",
       "    </tr>\n",
       "    <tr>\n",
       "      <th>27</th>\n",
       "      <td>45</td>\n",
       "      <td>hour_7</td>\n",
       "      <td>0.000242</td>\n",
       "    </tr>\n",
       "    <tr>\n",
       "      <th>28</th>\n",
       "      <td>39</td>\n",
       "      <td>hour_1</td>\n",
       "      <td>0.000217</td>\n",
       "    </tr>\n",
       "    <tr>\n",
       "      <th>29</th>\n",
       "      <td>43</td>\n",
       "      <td>hour_5</td>\n",
       "      <td>0.000192</td>\n",
       "    </tr>\n",
       "    <tr>\n",
       "      <th>30</th>\n",
       "      <td>28</td>\n",
       "      <td>Weather_Group_Light Precip</td>\n",
       "      <td>0.000145</td>\n",
       "    </tr>\n",
       "    <tr>\n",
       "      <th>31</th>\n",
       "      <td>47</td>\n",
       "      <td>hour_9</td>\n",
       "      <td>0.000123</td>\n",
       "    </tr>\n",
       "    <tr>\n",
       "      <th>32</th>\n",
       "      <td>46</td>\n",
       "      <td>hour_8</td>\n",
       "      <td>0.000123</td>\n",
       "    </tr>\n",
       "    <tr>\n",
       "      <th>33</th>\n",
       "      <td>21</td>\n",
       "      <td>DistanceZero</td>\n",
       "      <td>0.000119</td>\n",
       "    </tr>\n",
       "    <tr>\n",
       "      <th>34</th>\n",
       "      <td>57</td>\n",
       "      <td>hour_19</td>\n",
       "      <td>0.000118</td>\n",
       "    </tr>\n",
       "    <tr>\n",
       "      <th>35</th>\n",
       "      <td>51</td>\n",
       "      <td>hour_13</td>\n",
       "      <td>0.000085</td>\n",
       "    </tr>\n",
       "    <tr>\n",
       "      <th>36</th>\n",
       "      <td>32</td>\n",
       "      <td>weekday_Mon</td>\n",
       "      <td>0.000085</td>\n",
       "    </tr>\n",
       "    <tr>\n",
       "      <th>37</th>\n",
       "      <td>26</td>\n",
       "      <td>Weather_Group_Cloudy</td>\n",
       "      <td>0.000078</td>\n",
       "    </tr>\n",
       "    <tr>\n",
       "      <th>38</th>\n",
       "      <td>13</td>\n",
       "      <td>Railway</td>\n",
       "      <td>0.000077</td>\n",
       "    </tr>\n",
       "    <tr>\n",
       "      <th>39</th>\n",
       "      <td>50</td>\n",
       "      <td>hour_12</td>\n",
       "      <td>0.000061</td>\n",
       "    </tr>\n",
       "    <tr>\n",
       "      <th>40</th>\n",
       "      <td>41</td>\n",
       "      <td>hour_3</td>\n",
       "      <td>0.000059</td>\n",
       "    </tr>\n",
       "    <tr>\n",
       "      <th>41</th>\n",
       "      <td>36</td>\n",
       "      <td>weekday_Tue</td>\n",
       "      <td>0.000052</td>\n",
       "    </tr>\n",
       "    <tr>\n",
       "      <th>42</th>\n",
       "      <td>29</td>\n",
       "      <td>Weather_Group_Obscured</td>\n",
       "      <td>0.000049</td>\n",
       "    </tr>\n",
       "    <tr>\n",
       "      <th>43</th>\n",
       "      <td>49</td>\n",
       "      <td>hour_11</td>\n",
       "      <td>0.000047</td>\n",
       "    </tr>\n",
       "    <tr>\n",
       "      <th>44</th>\n",
       "      <td>59</td>\n",
       "      <td>hour_21</td>\n",
       "      <td>0.000042</td>\n",
       "    </tr>\n",
       "    <tr>\n",
       "      <th>45</th>\n",
       "      <td>58</td>\n",
       "      <td>hour_20</td>\n",
       "      <td>0.000038</td>\n",
       "    </tr>\n",
       "    <tr>\n",
       "      <th>46</th>\n",
       "      <td>38</td>\n",
       "      <td>hour_0</td>\n",
       "      <td>0.000035</td>\n",
       "    </tr>\n",
       "    <tr>\n",
       "      <th>47</th>\n",
       "      <td>52</td>\n",
       "      <td>hour_14</td>\n",
       "      <td>0.000032</td>\n",
       "    </tr>\n",
       "    <tr>\n",
       "      <th>48</th>\n",
       "      <td>40</td>\n",
       "      <td>hour_2</td>\n",
       "      <td>0.000031</td>\n",
       "    </tr>\n",
       "    <tr>\n",
       "      <th>49</th>\n",
       "      <td>42</td>\n",
       "      <td>hour_4</td>\n",
       "      <td>0.000027</td>\n",
       "    </tr>\n",
       "    <tr>\n",
       "      <th>50</th>\n",
       "      <td>27</td>\n",
       "      <td>Weather_Group_Heavy Precip</td>\n",
       "      <td>0.000023</td>\n",
       "    </tr>\n",
       "    <tr>\n",
       "      <th>51</th>\n",
       "      <td>35</td>\n",
       "      <td>weekday_Thu</td>\n",
       "      <td>0.000021</td>\n",
       "    </tr>\n",
       "    <tr>\n",
       "      <th>52</th>\n",
       "      <td>31</td>\n",
       "      <td>weekday_Fri</td>\n",
       "      <td>0.000020</td>\n",
       "    </tr>\n",
       "    <tr>\n",
       "      <th>53</th>\n",
       "      <td>37</td>\n",
       "      <td>weekday_Wed</td>\n",
       "      <td>0.000018</td>\n",
       "    </tr>\n",
       "    <tr>\n",
       "      <th>54</th>\n",
       "      <td>17</td>\n",
       "      <td>Traffic_Calming</td>\n",
       "      <td>0.000018</td>\n",
       "    </tr>\n",
       "  </tbody>\n",
       "</table>\n",
       "</div>"
      ],
      "text/plain": [
       "    index                     Feature  Importance\n",
       "0      20                 Duration(m)    0.380498\n",
       "1      18              Traffic_Signal    0.309682\n",
       "2       0                Distance(mi)    0.104732\n",
       "3      16                        Stop    0.032127\n",
       "4      11                    Junction    0.031207\n",
       "5      33                 weekday_Sat    0.029693\n",
       "6       9                    Crossing    0.028131\n",
       "7      34                 weekday_Sun    0.026977\n",
       "8      24                  DayNight01    0.020618\n",
       "9       3                Pressure(in)    0.009415\n",
       "10      1              Temperature(F)    0.005383\n",
       "11      5             Wind_Speed(mph)    0.004655\n",
       "12     61                     hour_23    0.001765\n",
       "13     60                     hour_22    0.001680\n",
       "14     55                     hour_17    0.001511\n",
       "15     56                     hour_18    0.001430\n",
       "16      2                 Humidity(%)    0.001424\n",
       "17     10                    Give_Way    0.001181\n",
       "18      6           Precipitation(in)    0.001139\n",
       "19     54                     hour_16    0.000892\n",
       "20     53                     hour_15    0.000792\n",
       "21     25         Weather_Group_Clear    0.000755\n",
       "22     44                      hour_6    0.000655\n",
       "23     22           PrecipitationZero    0.000442\n",
       "24      7                     Amenity    0.000424\n",
       "25      4              Visibility(mi)    0.000332\n",
       "26     15                     Station    0.000282\n",
       "27     45                      hour_7    0.000242\n",
       "28     39                      hour_1    0.000217\n",
       "29     43                      hour_5    0.000192\n",
       "30     28  Weather_Group_Light Precip    0.000145\n",
       "31     47                      hour_9    0.000123\n",
       "32     46                      hour_8    0.000123\n",
       "33     21                DistanceZero    0.000119\n",
       "34     57                     hour_19    0.000118\n",
       "35     51                     hour_13    0.000085\n",
       "36     32                 weekday_Mon    0.000085\n",
       "37     26        Weather_Group_Cloudy    0.000078\n",
       "38     13                     Railway    0.000077\n",
       "39     50                     hour_12    0.000061\n",
       "40     41                      hour_3    0.000059\n",
       "41     36                 weekday_Tue    0.000052\n",
       "42     29      Weather_Group_Obscured    0.000049\n",
       "43     49                     hour_11    0.000047\n",
       "44     59                     hour_21    0.000042\n",
       "45     58                     hour_20    0.000038\n",
       "46     38                      hour_0    0.000035\n",
       "47     52                     hour_14    0.000032\n",
       "48     40                      hour_2    0.000031\n",
       "49     42                      hour_4    0.000027\n",
       "50     27  Weather_Group_Heavy Precip    0.000023\n",
       "51     35                 weekday_Thu    0.000021\n",
       "52     31                 weekday_Fri    0.000020\n",
       "53     37                 weekday_Wed    0.000018\n",
       "54     17             Traffic_Calming    0.000018"
      ]
     },
     "execution_count": 15,
     "metadata": {},
     "output_type": "execute_result"
    }
   ],
   "source": [
    "# View Feature importance rank\n",
    "fi_df = zip(fi_col, fi)\n",
    "fi_df = pd.DataFrame(fi_df, columns = ['Feature', 'Importance'])\n",
    "fi_df = fi_df.sort_values('Importance', ascending = False).reset_index()\n",
    "fi_df[fi_df.Importance > 0]"
   ]
  },
  {
   "cell_type": "markdown",
   "metadata": {},
   "source": [
    "An interesting ranking.  Seven fields had zero impact on the dependent variable.  Traffic signals, stop signs, intersections and crosswalks are far more indicative of traffic severity than weather.  There are no weather indicators until the 10th - 12th position, unexpectedly lead by Pressure.  One of the created fields, DayNight, made the top ten.  I am surprised to see Heavy Precipitation ranking so low, maybe due to causing slower travel speeds.  \n",
    "\n",
    "There is also a large spread between weekend days and weekdays.  I can exclude time of day from our predictive model by limiting to the first twelve features in the ranking."
   ]
  },
  {
   "cell_type": "code",
   "execution_count": 16,
   "metadata": {},
   "outputs": [],
   "source": [
    "columns_to_keep = fi_df['Feature'][0:12]"
   ]
  },
  {
   "cell_type": "code",
   "execution_count": 17,
   "metadata": {},
   "outputs": [],
   "source": [
    "# Split X, y kept columns\n",
    "X = subset[columns_to_keep].values\n",
    "y = subset['Severity01'].astype(int)"
   ]
  },
  {
   "cell_type": "code",
   "execution_count": 18,
   "metadata": {},
   "outputs": [
    {
     "name": "stdout",
     "output_type": "stream",
     "text": [
      "(1956530, 12)\n",
      "(543481, 12)\n",
      "(217393, 12)\n",
      "(1956530,)\n",
      "(543481,)\n",
      "(217393,)\n"
     ]
    }
   ],
   "source": [
    "# Create training, test, validate sets\n",
    "X_train, X_test, y_train, y_test = train_test_split(X, y, test_size = 0.2, random_state=7)\n",
    "X_train, X_valid, y_train, y_valid = train_test_split(X_train, y_train, test_size = 0.1, random_state=7)\n",
    "print(X_train.shape)\n",
    "print(X_test.shape)\n",
    "print(X_valid.shape)\n",
    "print(y_train.shape)\n",
    "print(y_test.shape)\n",
    "print(y_valid.shape)"
   ]
  },
  {
   "cell_type": "code",
   "execution_count": 19,
   "metadata": {},
   "outputs": [],
   "source": [
    "steps = [('scaler', StandardScaler()), ('logreg', LogisticRegression(random_state = 7, solver='saga'))]"
   ]
  },
  {
   "cell_type": "code",
   "execution_count": 20,
   "metadata": {},
   "outputs": [],
   "source": [
    "pipeline = Pipeline(steps)"
   ]
  },
  {
   "cell_type": "code",
   "execution_count": 21,
   "metadata": {},
   "outputs": [],
   "source": [
    "logreg_scaled = pipeline.fit(X_train, y_train)"
   ]
  },
  {
   "cell_type": "code",
   "execution_count": 22,
   "metadata": {},
   "outputs": [],
   "source": [
    "# Predict class labels for samples in X\n",
    "y_pred = logreg_scaled.predict(X_test)"
   ]
  },
  {
   "cell_type": "code",
   "execution_count": 23,
   "metadata": {},
   "outputs": [],
   "source": [
    "# Probability estimates\n",
    "pred_proba = logreg_scaled.predict_proba(X_test)"
   ]
  },
  {
   "cell_type": "markdown",
   "metadata": {},
   "source": [
    "# Evaluate the Linear Regression Model"
   ]
  },
  {
   "cell_type": "code",
   "execution_count": 24,
   "metadata": {},
   "outputs": [
    {
     "name": "stdout",
     "output_type": "stream",
     "text": [
      "The training accuracy is  0.6912707701900814\n",
      "The testing accuracy is  0.6924124302413516\n"
     ]
    }
   ],
   "source": [
    "# Accuracy on training\n",
    "print(\"The training accuracy is \", logreg_scaled.score(X_train, y_train))\n",
    "\n",
    "# Accuracy on testing\n",
    "print(\"The testing accuracy is \", logreg_scaled.score(X_test, y_test))"
   ]
  },
  {
   "cell_type": "markdown",
   "metadata": {},
   "source": [
    "Narrowing the feature selection has a lower accuracy score then the original run.  I will re-evaluate with all the features with an Important score above 0."
   ]
  },
  {
   "cell_type": "code",
   "execution_count": 25,
   "metadata": {},
   "outputs": [
    {
     "name": "stdout",
     "output_type": "stream",
     "text": [
      "The 2nd testing accuracy is  0.6938862628132354\n"
     ]
    }
   ],
   "source": [
    "more_columns_to_keep = fi_df['Feature'][0:55]\n",
    "X2 = subset[more_columns_to_keep].values\n",
    "X2_train, X2_test, y_train, y_test = train_test_split(X2, y, test_size = 0.2, random_state=7)\n",
    "X2_train, X2_valid, y_train, y_valid = train_test_split(X2_train, y_train, test_size = 0.1, random_state=7)\n",
    "steps2 = [('scaler2', StandardScaler()), ('logreg2', LogisticRegression(random_state = 7))]\n",
    "pipeline2 = Pipeline(steps2)\n",
    "logreg2_scaled = pipeline2.fit(X2_train, y_train)\n",
    "print(\"The 2nd testing accuracy is \", logreg2_scaled.score(X2_test, y_test))"
   ]
  },
  {
   "cell_type": "markdown",
   "metadata": {},
   "source": [
    "The original logistic regression, the details of which I did not keep for reproduction, had the highest accuracy score of 69.44.  It used all of the fields from EDA and did not include the new binary columns for Distance, Precipitation and Visibility.  Selecting the top 12 features by importance of a decision tree classifier yielded lower accuracy of 69.24.  The third pass using all features greater than zero importance yielded accuracy of 69.39."
   ]
  },
  {
   "cell_type": "code",
   "execution_count": 68,
   "metadata": {},
   "outputs": [],
   "source": [
    "# 5-fold cross-validation scores\n",
    "cv_scores = cross_val_score(pipeline2, X2, y, cv=5)"
   ]
  },
  {
   "cell_type": "code",
   "execution_count": 69,
   "metadata": {},
   "outputs": [
    {
     "name": "stdout",
     "output_type": "stream",
     "text": [
      "[0.68999284 0.69549809 0.69052276 0.68822093 0.69239346]\n",
      "Average 5-Fold CV Score: 0.6913256185196776\n"
     ]
    }
   ],
   "source": [
    "# CV Scores first pass\n",
    "print(cv_scores)\n",
    "print(\"Average 5-Fold CV Score: {}\".format(np.mean(cv_scores)))"
   ]
  },
  {
   "cell_type": "code",
   "execution_count": 74,
   "metadata": {},
   "outputs": [
    {
     "name": "stdout",
     "output_type": "stream",
     "text": [
      "              precision    recall  f1-score   support\n",
      "\n",
      "           0       0.71      0.94      0.81    367866\n",
      "           1       0.58      0.19      0.28    175615\n",
      "\n",
      "    accuracy                           0.69    543481\n",
      "   macro avg       0.64      0.56      0.54    543481\n",
      "weighted avg       0.67      0.69      0.64    543481\n",
      "\n"
     ]
    }
   ],
   "source": [
    "y_pred2 = logreg2_scaled.predict(X2_test)\n",
    "print(classification_report(y_test, y_pred2))"
   ]
  },
  {
   "cell_type": "markdown",
   "metadata": {},
   "source": [
    "The high recall for 0 is an indication most low-severity traffic accidents were predicted correctly."
   ]
  },
  {
   "cell_type": "code",
   "execution_count": 78,
   "metadata": {},
   "outputs": [
    {
     "name": "stdout",
     "output_type": "stream",
     "text": [
      "[[344028  23838]\n",
      " [142529  33086]]\n"
     ]
    }
   ],
   "source": [
    "print(confusion_matrix(y_test, y_pred2))"
   ]
  },
  {
   "cell_type": "code",
   "execution_count": 79,
   "metadata": {},
   "outputs": [
    {
     "name": "stdout",
     "output_type": "stream",
     "text": [
      "[[0.93519923 0.06480077]\n",
      " [0.81159924 0.18840076]]\n"
     ]
    }
   ],
   "source": [
    "# confusion matrix percentages\n",
    "cm = confusion_matrix(y_test, y_pred2)\n",
    "cmpct = cm / cm.sum(axis=1).reshape(-1,1)\n",
    "print(cmpct)"
   ]
  },
  {
   "cell_type": "markdown",
   "metadata": {},
   "source": [
    "False positives in the lower left corner appear to drive the inaccuracy.  They are actual high severity traffic (1) but predicted incorrectly as low severity (0).  High severity accident traffic was only correctly predicted 18.8% of the time."
   ]
  },
  {
   "cell_type": "code",
   "execution_count": 83,
   "metadata": {},
   "outputs": [
    {
     "name": "stdout",
     "output_type": "stream",
     "text": [
      "The Log Loss on Test dataset is  0.5752759625997073\n"
     ]
    }
   ],
   "source": [
    "# Log Loss on testing\n",
    "from sklearn.metrics import log_loss\n",
    "pred_proba2 = logreg2_scaled.predict_proba(X2_test)\n",
    "print(\"The Log Loss on Test dataset is \", log_loss(y_test, pred_proba2))"
   ]
  },
  {
   "cell_type": "code",
   "execution_count": 72,
   "metadata": {},
   "outputs": [
    {
     "data": {
      "image/png": "[encoded data removed]",
      "text/plain": [
       "<Figure size 432x288 with 1 Axes>"
      ]
     },
     "metadata": {
      "needs_background": "light"
     },
     "output_type": "display_data"
    }
   ],
   "source": [
    "# Plotting the ROC curve\n",
    "y_pred_prob = pipeline2.predict_proba(X2_test)[:, 1]\n",
    "fpr, tpr, thresholds = roc_curve(y_test, y_pred_prob)\n",
    "plt.plot([0,1], [0,1], 'k--')\n",
    "plt.plot(fpr, tpr, label = 'Logistic Regression')\n",
    "plt.xlabel('False Positive Rate')\n",
    "plt.ylabel(\"True Positive Rate\")\n",
    "plt.title('Logistic Regression ROC Curve')\n",
    "plt.show()"
   ]
  },
  {
   "cell_type": "code",
   "execution_count": 84,
   "metadata": {},
   "outputs": [
    {
     "data": {
      "text/plain": [
       "0.694535048057978"
      ]
     },
     "execution_count": 84,
     "metadata": {},
     "output_type": "execute_result"
    }
   ],
   "source": [
    "roc_auc_score(y_test, y_pred_prob)"
   ]
  },
  {
   "cell_type": "code",
   "execution_count": null,
   "metadata": {},
   "outputs": [
    {
     "name": "stderr",
     "output_type": "stream",
     "text": [
      "C:\\Users\\ggibs\\Anaconda3\\lib\\site-packages\\sklearn\\linear_model\\_logistic.py:940: ConvergenceWarning: lbfgs failed to converge (status=1):\n",
      "STOP: TOTAL NO. of ITERATIONS REACHED LIMIT.\n",
      "\n",
      "Increase the number of iterations (max_iter) or scale the data as shown in:\n",
      "    https://scikit-learn.org/stable/modules/preprocessing.html\n",
      "Please also refer to the documentation for alternative solver options:\n",
      "    https://scikit-learn.org/stable/modules/linear_model.html#logistic-regression\n",
      "  extra_warning_msg=_LOGISTIC_SOLVER_CONVERGENCE_MSG)\n",
      "C:\\Users\\ggibs\\Anaconda3\\lib\\site-packages\\sklearn\\linear_model\\_logistic.py:940: ConvergenceWarning: lbfgs failed to converge (status=1):\n",
      "STOP: TOTAL NO. of ITERATIONS REACHED LIMIT.\n",
      "\n",
      "Increase the number of iterations (max_iter) or scale the data as shown in:\n",
      "    https://scikit-learn.org/stable/modules/preprocessing.html\n",
      "Please also refer to the documentation for alternative solver options:\n",
      "    https://scikit-learn.org/stable/modules/linear_model.html#logistic-regression\n",
      "  extra_warning_msg=_LOGISTIC_SOLVER_CONVERGENCE_MSG)\n"
     ]
    }
   ],
   "source": [
    "# Hyperparameter C\n",
    "from sklearn.linear_model import LogisticRegressionCV\n",
    "C_List = np.geomspace(1e-5, 1e5, num=20)\n",
    "kf = KFold(n_splits = 3, random_state = 0, shuffle = True)\n",
    "Logreg3 = LogisticRegressionCV(cv=kf, random_state=15, Cs = C_List)\n",
    "Logreg3.fit(X2_train, y_train)\n",
    "print(\"The CA is \", Logreg3.score(X2_test, y_test))\n"
   ]
  },
  {
   "cell_type": "code",
   "execution_count": null,
   "metadata": {},
   "outputs": [],
   "source": []
  }
 ],
 "metadata": {
  "kernelspec": {
   "display_name": "Python 3",
   "language": "python",
   "name": "python3"
  },
  "language_info": {
   "codemirror_mode": {
    "name": "ipython",
    "version": 3
   },
   "file_extension": ".py",
   "mimetype": "text/x-python",
   "name": "python",
   "nbconvert_exporter": "python",
   "pygments_lexer": "ipython3",
   "version": "3.7.6"
  }
 },
 "nbformat": 4,
 "nbformat_minor": 4
}
